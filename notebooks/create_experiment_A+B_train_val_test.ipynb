{
 "cells": [
  {
   "cell_type": "code",
   "execution_count": 27,
   "metadata": {},
   "outputs": [
    {
     "name": "stdout",
     "output_type": "stream",
     "text": [
      "run_id = []\n",
      "Reversing order of provided datasets from A,B to B,A. This should make no difference based on experiment type.\n",
      "{'dataset_A': 'PNAS',\n",
      " 'dataset_B': 'Fossil',\n",
      " 'experiment_type': 'A+B_train_val_test',\n",
      " 'run_id': ['2000']}\n"
     ]
    }
   ],
   "source": [
    "# cfg = stuf({'experiment_type':'A+B_train_val_test',\n",
    "#             'dataset_A':'Leaves',\n",
    "#             'dataset_B':'Fossil'})\n",
    "\n",
    "cfg = stuf({'experiment_type':'A+B_train_val_test',\n",
    "            'dataset_A':'PNAS',\n",
    "            'dataset_B':'Fossil'})\n",
    "\n",
    "cfg = stuf({'experiment_type':'A+B_train_val_test',\n",
    "            'dataset_A':'Fossil',\n",
    "            'dataset_B':'PNAS'})\n",
    "\n",
    "\n",
    "runs_table = experiments_db.get_db_table('runs',EXPERIMENTS_DB)\n",
    "\n",
    "run_id = select_by_multicol(runs_table, kwargs={'experiment_type':cfg.experiment_type,\n",
    "                                                    'dataset_A':cfg.dataset_A,\n",
    "                                                    'dataset_B':cfg.dataset_B})['run_id'].tolist()#iloc[0]\n",
    "print(f'run_id = {run_id}')\n",
    "if len(run_id)==0:\n",
    "    run_id = select_by_multicol(runs_table, kwargs={'experiment_type':cfg.experiment_type,\n",
    "                                                        'dataset_A':cfg.dataset_B,\n",
    "                                                        'dataset_B':cfg.dataset_A})['run_id'].tolist()#.values#.iloc[0]\n",
    "    if len(run_id)==0:\n",
    "        print('invalid dataset_A or dataset_B, experiment config info not found')\n",
    "        raise\n",
    "    else:\n",
    "        print('Reversing order of provided datasets from A,B to B,A. This should make no difference based on experiment type.')\n",
    "        cfg.dataset_A, cfg.dataset_B = cfg.dataset_B, cfg.dataset_A\n",
    "    \n",
    "cfg.run_id = run_id\n",
    "pprint(cfg)\n",
    "# pprint(cfg.run_id.iloc[0])"
   ]
  },
  {
   "cell_type": "code",
   "execution_count": 8,
   "metadata": {},
   "outputs": [
    {
     "data": {
      "text/html": [
       "<div>\n",
       "<style scoped>\n",
       "    .dataframe tbody tr th:only-of-type {\n",
       "        vertical-align: middle;\n",
       "    }\n",
       "\n",
       "    .dataframe tbody tr th {\n",
       "        vertical-align: top;\n",
       "    }\n",
       "\n",
       "    .dataframe thead th {\n",
       "        text-align: right;\n",
       "    }\n",
       "</style>\n",
       "<table border=\"1\" class=\"dataframe\">\n",
       "  <thead>\n",
       "    <tr style=\"text-align: right;\">\n",
       "      <th></th>\n",
       "      <th>run_id</th>\n",
       "      <th>experiment_type</th>\n",
       "      <th>dataset_A</th>\n",
       "      <th>dataset_B</th>\n",
       "    </tr>\n",
       "  </thead>\n",
       "  <tbody>\n",
       "    <tr>\n",
       "      <th>0</th>\n",
       "      <td>1000</td>\n",
       "      <td>A_train_val_test</td>\n",
       "      <td>PNAS</td>\n",
       "      <td>None</td>\n",
       "    </tr>\n",
       "    <tr>\n",
       "      <th>1</th>\n",
       "      <td>1100</td>\n",
       "      <td>A_train_val_test</td>\n",
       "      <td>Fossil</td>\n",
       "      <td>None</td>\n",
       "    </tr>\n",
       "    <tr>\n",
       "      <th>2</th>\n",
       "      <td>1200</td>\n",
       "      <td>A_train_val_test</td>\n",
       "      <td>Leaves</td>\n",
       "      <td>None</td>\n",
       "    </tr>\n",
       "    <tr>\n",
       "      <th>3</th>\n",
       "      <td>2000</td>\n",
       "      <td>A+B_train_val_test</td>\n",
       "      <td>PNAS</td>\n",
       "      <td>Fossil</td>\n",
       "    </tr>\n",
       "    <tr>\n",
       "      <th>4</th>\n",
       "      <td>2100</td>\n",
       "      <td>A+B_train_val_test</td>\n",
       "      <td>PNAS</td>\n",
       "      <td>Leaves</td>\n",
       "    </tr>\n",
       "    <tr>\n",
       "      <th>5</th>\n",
       "      <td>2200</td>\n",
       "      <td>A+B_train_val_test</td>\n",
       "      <td>Fossil</td>\n",
       "      <td>Leaves</td>\n",
       "    </tr>\n",
       "    <tr>\n",
       "      <th>6</th>\n",
       "      <td>3000</td>\n",
       "      <td>A_train_val-B_train_val_test</td>\n",
       "      <td>PNAS</td>\n",
       "      <td>Fossil</td>\n",
       "    </tr>\n",
       "    <tr>\n",
       "      <th>7</th>\n",
       "      <td>3100</td>\n",
       "      <td>A_train_val-B_train_val_test</td>\n",
       "      <td>PNAS</td>\n",
       "      <td>Leaves</td>\n",
       "    </tr>\n",
       "    <tr>\n",
       "      <th>8</th>\n",
       "      <td>3200</td>\n",
       "      <td>A_train_val-B_train_val_test</td>\n",
       "      <td>Fossil</td>\n",
       "      <td>Leaves</td>\n",
       "    </tr>\n",
       "    <tr>\n",
       "      <th>9</th>\n",
       "      <td>4000</td>\n",
       "      <td>A+B_leave_one_out</td>\n",
       "      <td>PNAS</td>\n",
       "      <td>Fossil</td>\n",
       "    </tr>\n",
       "    <tr>\n",
       "      <th>10</th>\n",
       "      <td>4100</td>\n",
       "      <td>A+B_leave_one_out</td>\n",
       "      <td>Leaves</td>\n",
       "      <td>Fossil</td>\n",
       "    </tr>\n",
       "    <tr>\n",
       "      <th>11</th>\n",
       "      <td>4200</td>\n",
       "      <td>A+B_leave_one_out</td>\n",
       "      <td>Fossil</td>\n",
       "      <td>Leaves</td>\n",
       "    </tr>\n",
       "  </tbody>\n",
       "</table>\n",
       "</div>"
      ],
      "text/plain": [
       "   run_id               experiment_type dataset_A dataset_B\n",
       "0    1000              A_train_val_test      PNAS      None\n",
       "1    1100              A_train_val_test    Fossil      None\n",
       "2    1200              A_train_val_test    Leaves      None\n",
       "3    2000            A+B_train_val_test      PNAS    Fossil\n",
       "4    2100            A+B_train_val_test      PNAS    Leaves\n",
       "5    2200            A+B_train_val_test    Fossil    Leaves\n",
       "6    3000  A_train_val-B_train_val_test      PNAS    Fossil\n",
       "7    3100  A_train_val-B_train_val_test      PNAS    Leaves\n",
       "8    3200  A_train_val-B_train_val_test    Fossil    Leaves\n",
       "9    4000             A+B_leave_one_out      PNAS    Fossil\n",
       "10   4100             A+B_leave_one_out    Leaves    Fossil\n",
       "11   4200             A+B_leave_one_out    Fossil    Leaves"
      ]
     },
     "execution_count": 8,
     "metadata": {},
     "output_type": "execute_result"
    }
   ],
   "source": [
    "runs_table"
   ]
  },
  {
   "cell_type": "code",
   "execution_count": 1,
   "metadata": {},
   "outputs": [
    {
     "name": "stdout",
     "output_type": "stream",
     "text": [
      "os.environ[\"CUDA_VISIBLE_DEVICES\"] :  7\n",
      "OpenCV is built with OpenMP support. This usually results in poor performance. For details, see https://github.com/tensorpack/benchmarks/blob/master/ImageNet/benchmark-opencv-resize.py\n",
      "\n"
     ]
    },
    {
     "data": {
      "text/html": [
       "<div>\n",
       "<style scoped>\n",
       "    .dataframe tbody tr th:only-of-type {\n",
       "        vertical-align: middle;\n",
       "    }\n",
       "\n",
       "    .dataframe tbody tr th {\n",
       "        vertical-align: top;\n",
       "    }\n",
       "\n",
       "    .dataframe thead th {\n",
       "        text-align: right;\n",
       "    }\n",
       "</style>\n",
       "<table border=\"1\" class=\"dataframe\">\n",
       "  <thead>\n",
       "    <tr style=\"text-align: right;\">\n",
       "      <th></th>\n",
       "      <th>run_id</th>\n",
       "      <th>experiment_type</th>\n",
       "      <th>dataset_A</th>\n",
       "      <th>dataset_B</th>\n",
       "    </tr>\n",
       "  </thead>\n",
       "  <tbody>\n",
       "    <tr>\n",
       "      <th>3</th>\n",
       "      <td>2000</td>\n",
       "      <td>A+B_train_val_test</td>\n",
       "      <td>PNAS</td>\n",
       "      <td>Fossil</td>\n",
       "    </tr>\n",
       "    <tr>\n",
       "      <th>4</th>\n",
       "      <td>2100</td>\n",
       "      <td>A+B_train_val_test</td>\n",
       "      <td>PNAS</td>\n",
       "      <td>Leaves</td>\n",
       "    </tr>\n",
       "    <tr>\n",
       "      <th>5</th>\n",
       "      <td>2200</td>\n",
       "      <td>A+B_train_val_test</td>\n",
       "      <td>Fossil</td>\n",
       "      <td>Leaves</td>\n",
       "    </tr>\n",
       "  </tbody>\n",
       "</table>\n",
       "</div>"
      ],
      "text/plain": [
       "  run_id     experiment_type dataset_A dataset_B\n",
       "3   2000  A+B_train_val_test      PNAS    Fossil\n",
       "4   2100  A+B_train_val_test      PNAS    Leaves\n",
       "5   2200  A+B_train_val_test    Fossil    Leaves"
      ]
     },
     "execution_count": 1,
     "metadata": {},
     "output_type": "execute_result"
    }
   ],
   "source": [
    "gpu = 7\n",
    "seed = 12321\n",
    "import os\n",
    "os.environ[\"CUDA_VISIBLE_DEVICES\"] = str(gpu)\n",
    "print('os.environ[\"CUDA_VISIBLE_DEVICES\"] : ',os.environ[\"CUDA_VISIBLE_DEVICES\"])\n",
    "import tensorflow as tf\n",
    "tf.compat.v1.enable_eager_execution()\n",
    "\n",
    "from pyleaves.leavesdb import experiments_db, db_manager\n",
    "from pyleaves.leavesdb.experiments_db import DataBase, Table, TFRecordsTable, EXPERIMENTS_SCHEMA, TFRecordItem, EXPERIMENTS_DB\n",
    "from pyleaves.leavesdb.experiments_db import get_db_table, select_by_col, select_by_multicol\n",
    "from more_itertools import unzip\n",
    "from functools import partial\n",
    "import pandas as pd\n",
    "import pyleaves\n",
    "# from pyleaves import leavesdb\n",
    "from pyleaves.configs.config_v2 import BaseConfig\n",
    "from pyleaves.datasets import leaves_dataset, fossil_dataset, pnas_dataset, base_dataset\n",
    "from pyleaves.utils.csv_utils import save_csv_data, load_csv_data\n",
    "from pyleaves.utils.utils import ensure_dir_exists\n",
    "from pyleaves.leavesdb.tf_utils.create_tfrecords import save_tfrecords\n",
    "import random\n",
    "from stuf import stuf\n",
    "import time\n",
    "from pprint import pprint\n",
    "\n",
    "\n",
    "tables = experiments_db.get_db_contents()\n",
    "experiment_view = select_by_col(table=tables['runs'],column='experiment_type',value='A+B_train_val_test')\n",
    "experiment_view"
   ]
  },
  {
   "cell_type": "code",
   "execution_count": 28,
   "metadata": {},
   "outputs": [
    {
     "data": {
      "text/html": [
       "<div>\n",
       "<style scoped>\n",
       "    .dataframe tbody tr th:only-of-type {\n",
       "        vertical-align: middle;\n",
       "    }\n",
       "\n",
       "    .dataframe tbody tr th {\n",
       "        vertical-align: top;\n",
       "    }\n",
       "\n",
       "    .dataframe thead th {\n",
       "        text-align: right;\n",
       "    }\n",
       "</style>\n",
       "<table border=\"1\" class=\"dataframe\">\n",
       "  <thead>\n",
       "    <tr style=\"text-align: right;\">\n",
       "      <th></th>\n",
       "      <th>file_path</th>\n",
       "      <th>file_group</th>\n",
       "      <th>dataset_stage</th>\n",
       "      <th>subrun_id</th>\n",
       "      <th>run_id</th>\n",
       "      <th>experiment_type</th>\n",
       "      <th>dataset_name</th>\n",
       "      <th>resolution</th>\n",
       "      <th>num_channels</th>\n",
       "      <th>num_classes</th>\n",
       "      <th>num_shards</th>\n",
       "      <th>num_samples</th>\n",
       "    </tr>\n",
       "  </thead>\n",
       "  <tbody>\n",
       "    <tr>\n",
       "      <th>97</th>\n",
       "      <td>/media/data/jacob/Fossil_Project/data/tfrecord...</td>\n",
       "      <td>train</td>\n",
       "      <td>dataset_A+dataset_B</td>\n",
       "      <td>2000</td>\n",
       "      <td>2000</td>\n",
       "      <td>A+B_train_val_test</td>\n",
       "      <td>PNAS+Fossil</td>\n",
       "      <td>256</td>\n",
       "      <td>3</td>\n",
       "      <td>37</td>\n",
       "      <td>10</td>\n",
       "      <td>456</td>\n",
       "    </tr>\n",
       "    <tr>\n",
       "      <th>98</th>\n",
       "      <td>/media/data/jacob/Fossil_Project/data/tfrecord...</td>\n",
       "      <td>train</td>\n",
       "      <td>dataset_A+dataset_B</td>\n",
       "      <td>2000</td>\n",
       "      <td>2000</td>\n",
       "      <td>A+B_train_val_test</td>\n",
       "      <td>PNAS+Fossil</td>\n",
       "      <td>256</td>\n",
       "      <td>3</td>\n",
       "      <td>37</td>\n",
       "      <td>10</td>\n",
       "      <td>456</td>\n",
       "    </tr>\n",
       "    <tr>\n",
       "      <th>99</th>\n",
       "      <td>/media/data/jacob/Fossil_Project/data/tfrecord...</td>\n",
       "      <td>train</td>\n",
       "      <td>dataset_A+dataset_B</td>\n",
       "      <td>2000</td>\n",
       "      <td>2000</td>\n",
       "      <td>A+B_train_val_test</td>\n",
       "      <td>PNAS+Fossil</td>\n",
       "      <td>256</td>\n",
       "      <td>3</td>\n",
       "      <td>37</td>\n",
       "      <td>10</td>\n",
       "      <td>456</td>\n",
       "    </tr>\n",
       "    <tr>\n",
       "      <th>100</th>\n",
       "      <td>/media/data/jacob/Fossil_Project/data/tfrecord...</td>\n",
       "      <td>train</td>\n",
       "      <td>dataset_A+dataset_B</td>\n",
       "      <td>2000</td>\n",
       "      <td>2000</td>\n",
       "      <td>A+B_train_val_test</td>\n",
       "      <td>PNAS+Fossil</td>\n",
       "      <td>256</td>\n",
       "      <td>3</td>\n",
       "      <td>37</td>\n",
       "      <td>10</td>\n",
       "      <td>456</td>\n",
       "    </tr>\n",
       "    <tr>\n",
       "      <th>101</th>\n",
       "      <td>/media/data/jacob/Fossil_Project/data/tfrecord...</td>\n",
       "      <td>train</td>\n",
       "      <td>dataset_A+dataset_B</td>\n",
       "      <td>2000</td>\n",
       "      <td>2000</td>\n",
       "      <td>A+B_train_val_test</td>\n",
       "      <td>PNAS+Fossil</td>\n",
       "      <td>256</td>\n",
       "      <td>3</td>\n",
       "      <td>37</td>\n",
       "      <td>10</td>\n",
       "      <td>456</td>\n",
       "    </tr>\n",
       "    <tr>\n",
       "      <th>...</th>\n",
       "      <td>...</td>\n",
       "      <td>...</td>\n",
       "      <td>...</td>\n",
       "      <td>...</td>\n",
       "      <td>...</td>\n",
       "      <td>...</td>\n",
       "      <td>...</td>\n",
       "      <td>...</td>\n",
       "      <td>...</td>\n",
       "      <td>...</td>\n",
       "      <td>...</td>\n",
       "      <td>...</td>\n",
       "    </tr>\n",
       "    <tr>\n",
       "      <th>191</th>\n",
       "      <td>/media/data/jacob/Fossil_Project/data/tfrecord...</td>\n",
       "      <td>test</td>\n",
       "      <td>dataset_A+dataset_B</td>\n",
       "      <td>2200</td>\n",
       "      <td>2200</td>\n",
       "      <td>A+B_train_val_test</td>\n",
       "      <td>Fossil+Leaves</td>\n",
       "      <td>256</td>\n",
       "      <td>3</td>\n",
       "      <td>380</td>\n",
       "      <td>10</td>\n",
       "      <td>1620</td>\n",
       "    </tr>\n",
       "    <tr>\n",
       "      <th>192</th>\n",
       "      <td>/media/data/jacob/Fossil_Project/data/tfrecord...</td>\n",
       "      <td>test</td>\n",
       "      <td>dataset_A+dataset_B</td>\n",
       "      <td>2200</td>\n",
       "      <td>2200</td>\n",
       "      <td>A+B_train_val_test</td>\n",
       "      <td>Fossil+Leaves</td>\n",
       "      <td>256</td>\n",
       "      <td>3</td>\n",
       "      <td>380</td>\n",
       "      <td>10</td>\n",
       "      <td>1620</td>\n",
       "    </tr>\n",
       "    <tr>\n",
       "      <th>193</th>\n",
       "      <td>/media/data/jacob/Fossil_Project/data/tfrecord...</td>\n",
       "      <td>test</td>\n",
       "      <td>dataset_A+dataset_B</td>\n",
       "      <td>2200</td>\n",
       "      <td>2200</td>\n",
       "      <td>A+B_train_val_test</td>\n",
       "      <td>Fossil+Leaves</td>\n",
       "      <td>256</td>\n",
       "      <td>3</td>\n",
       "      <td>380</td>\n",
       "      <td>10</td>\n",
       "      <td>1620</td>\n",
       "    </tr>\n",
       "    <tr>\n",
       "      <th>194</th>\n",
       "      <td>/media/data/jacob/Fossil_Project/data/tfrecord...</td>\n",
       "      <td>test</td>\n",
       "      <td>dataset_A+dataset_B</td>\n",
       "      <td>2200</td>\n",
       "      <td>2200</td>\n",
       "      <td>A+B_train_val_test</td>\n",
       "      <td>Fossil+Leaves</td>\n",
       "      <td>256</td>\n",
       "      <td>3</td>\n",
       "      <td>380</td>\n",
       "      <td>10</td>\n",
       "      <td>1620</td>\n",
       "    </tr>\n",
       "    <tr>\n",
       "      <th>195</th>\n",
       "      <td>/media/data/jacob/Fossil_Project/data/tfrecord...</td>\n",
       "      <td>test</td>\n",
       "      <td>dataset_A+dataset_B</td>\n",
       "      <td>2200</td>\n",
       "      <td>2200</td>\n",
       "      <td>A+B_train_val_test</td>\n",
       "      <td>Fossil+Leaves</td>\n",
       "      <td>256</td>\n",
       "      <td>3</td>\n",
       "      <td>380</td>\n",
       "      <td>10</td>\n",
       "      <td>5</td>\n",
       "    </tr>\n",
       "  </tbody>\n",
       "</table>\n",
       "<p>99 rows × 12 columns</p>\n",
       "</div>"
      ],
      "text/plain": [
       "                                             file_path file_group  \\\n",
       "97   /media/data/jacob/Fossil_Project/data/tfrecord...      train   \n",
       "98   /media/data/jacob/Fossil_Project/data/tfrecord...      train   \n",
       "99   /media/data/jacob/Fossil_Project/data/tfrecord...      train   \n",
       "100  /media/data/jacob/Fossil_Project/data/tfrecord...      train   \n",
       "101  /media/data/jacob/Fossil_Project/data/tfrecord...      train   \n",
       "..                                                 ...        ...   \n",
       "191  /media/data/jacob/Fossil_Project/data/tfrecord...       test   \n",
       "192  /media/data/jacob/Fossil_Project/data/tfrecord...       test   \n",
       "193  /media/data/jacob/Fossil_Project/data/tfrecord...       test   \n",
       "194  /media/data/jacob/Fossil_Project/data/tfrecord...       test   \n",
       "195  /media/data/jacob/Fossil_Project/data/tfrecord...       test   \n",
       "\n",
       "           dataset_stage subrun_id run_id     experiment_type   dataset_name  \\\n",
       "97   dataset_A+dataset_B      2000   2000  A+B_train_val_test    PNAS+Fossil   \n",
       "98   dataset_A+dataset_B      2000   2000  A+B_train_val_test    PNAS+Fossil   \n",
       "99   dataset_A+dataset_B      2000   2000  A+B_train_val_test    PNAS+Fossil   \n",
       "100  dataset_A+dataset_B      2000   2000  A+B_train_val_test    PNAS+Fossil   \n",
       "101  dataset_A+dataset_B      2000   2000  A+B_train_val_test    PNAS+Fossil   \n",
       "..                   ...       ...    ...                 ...            ...   \n",
       "191  dataset_A+dataset_B      2200   2200  A+B_train_val_test  Fossil+Leaves   \n",
       "192  dataset_A+dataset_B      2200   2200  A+B_train_val_test  Fossil+Leaves   \n",
       "193  dataset_A+dataset_B      2200   2200  A+B_train_val_test  Fossil+Leaves   \n",
       "194  dataset_A+dataset_B      2200   2200  A+B_train_val_test  Fossil+Leaves   \n",
       "195  dataset_A+dataset_B      2200   2200  A+B_train_val_test  Fossil+Leaves   \n",
       "\n",
       "     resolution  num_channels  num_classes  num_shards  num_samples  \n",
       "97          256             3           37          10          456  \n",
       "98          256             3           37          10          456  \n",
       "99          256             3           37          10          456  \n",
       "100         256             3           37          10          456  \n",
       "101         256             3           37          10          456  \n",
       "..          ...           ...          ...         ...          ...  \n",
       "191         256             3          380          10         1620  \n",
       "192         256             3          380          10         1620  \n",
       "193         256             3          380          10         1620  \n",
       "194         256             3          380          10         1620  \n",
       "195         256             3          380          10            5  \n",
       "\n",
       "[99 rows x 12 columns]"
      ]
     },
     "execution_count": 28,
     "metadata": {},
     "output_type": "execute_result"
    }
   ],
   "source": [
    "tables = experiments_db.get_db_contents()\n",
    "experiment_view = select_by_col(table=tables['tfrecords'],column='experiment_type',value='A+B_train_val_test')\n",
    "experiment_view"
   ]
  },
  {
   "cell_type": "code",
   "execution_count": 5,
   "metadata": {
    "scrolled": true
   },
   "outputs": [
    {
     "name": "stdout",
     "output_type": "stream",
     "text": [
      "SKIPPING run with run_id=2000\n",
      "BEGINNING  run_id                           2100\n",
      "experiment_type    A+B_train_val_test\n",
      "dataset_A                        PNAS\n",
      "dataset_B                      Leaves\n",
      "Name: 4, dtype: object\n",
      "A: PNAS:\n",
      "    num_samples: 5314\n",
      "    num_classes: 19\n",
      "    class_count_threshold: 0\n",
      "        \n",
      "B: Leaves:\n",
      "    num_samples: 26953\n",
      "    num_classes: 376\n",
      "    class_count_threshold: 0\n",
      "        \n",
      "A+B: PNAS+Leaves:\n",
      "    num_samples: 32267\n",
      "    num_classes: 376\n",
      "    class_count_threshold: 0\n",
      "        \n",
      "train 0.4 (0, 12635)\n",
      "val 0.1 (12635, 15794)\n",
      "test 0.5 (15794, 31589)\n",
      "A+B: PNAS+Leaves:\n",
      "    num_samples: 31589\n",
      "    num_classes: 190\n",
      "    class_count_threshold: 10\n",
      "        \n",
      "saved 12635 samples to /media/data_cifs/jacob/Fossil_Project/data/csv_data/A+B_train_val_test/PNAS+Leaves/train_data.csv\n",
      "Starting to split train subset with 12635 total samples into 10 shards\n",
      "converting 12635 images to tfrecord\n",
      "self.num_shards 10\n"
     ]
    },
    {
     "name": "stderr",
     "output_type": "stream",
     "text": [
      "  3%|▎         | 33/1263 [00:00<00:03, 321.34it/s]"
     ]
    },
    {
     "name": "stdout",
     "output_type": "stream",
     "text": [
      "Writing /media/data/jacob/Fossil_Project/data/tfrecord_data/A+B_train_val_test/PNAS+Leaves/train-00000-of-00010.tfrecord\n"
     ]
    },
    {
     "name": "stderr",
     "output_type": "stream",
     "text": [
      "100%|██████████| 1263/1263 [00:04<00:00, 313.13it/s]\n"
     ]
    },
    {
     "name": "stdout",
     "output_type": "stream",
     "text": [
      "Logged TFRecord\n",
      "Finished /media/data/jacob/Fossil_Project/data/tfrecord_data/A+B_train_val_test/PNAS+Leaves/train-00000-of-00010.tfrecord\n",
      "Wrote 1263 in 4.04\n"
     ]
    },
    {
     "name": "stderr",
     "output_type": "stream",
     "text": [
      "  3%|▎         | 32/1263 [00:00<00:03, 317.92it/s]"
     ]
    },
    {
     "name": "stdout",
     "output_type": "stream",
     "text": [
      "Writing /media/data/jacob/Fossil_Project/data/tfrecord_data/A+B_train_val_test/PNAS+Leaves/train-00001-of-00010.tfrecord\n"
     ]
    },
    {
     "name": "stderr",
     "output_type": "stream",
     "text": [
      "100%|██████████| 1263/1263 [00:04<00:00, 315.55it/s]\n"
     ]
    },
    {
     "name": "stdout",
     "output_type": "stream",
     "text": [
      "Logged TFRecord\n",
      "Finished /media/data/jacob/Fossil_Project/data/tfrecord_data/A+B_train_val_test/PNAS+Leaves/train-00001-of-00010.tfrecord\n",
      "Wrote 1263 in 4.01\n"
     ]
    },
    {
     "name": "stderr",
     "output_type": "stream",
     "text": [
      "  3%|▎         | 34/1263 [00:00<00:03, 334.16it/s]"
     ]
    },
    {
     "name": "stdout",
     "output_type": "stream",
     "text": [
      "Writing /media/data/jacob/Fossil_Project/data/tfrecord_data/A+B_train_val_test/PNAS+Leaves/train-00002-of-00010.tfrecord\n"
     ]
    },
    {
     "name": "stderr",
     "output_type": "stream",
     "text": [
      "100%|██████████| 1263/1263 [00:04<00:00, 310.95it/s]\n"
     ]
    },
    {
     "name": "stdout",
     "output_type": "stream",
     "text": [
      "Logged TFRecord\n",
      "Finished /media/data/jacob/Fossil_Project/data/tfrecord_data/A+B_train_val_test/PNAS+Leaves/train-00002-of-00010.tfrecord\n",
      "Wrote 1263 in 4.07\n"
     ]
    },
    {
     "name": "stderr",
     "output_type": "stream",
     "text": [
      "  3%|▎         | 34/1263 [00:00<00:03, 331.67it/s]"
     ]
    },
    {
     "name": "stdout",
     "output_type": "stream",
     "text": [
      "Writing /media/data/jacob/Fossil_Project/data/tfrecord_data/A+B_train_val_test/PNAS+Leaves/train-00003-of-00010.tfrecord\n"
     ]
    },
    {
     "name": "stderr",
     "output_type": "stream",
     "text": [
      "100%|██████████| 1263/1263 [00:04<00:00, 314.75it/s]\n"
     ]
    },
    {
     "name": "stdout",
     "output_type": "stream",
     "text": [
      "Logged TFRecord\n",
      "Finished /media/data/jacob/Fossil_Project/data/tfrecord_data/A+B_train_val_test/PNAS+Leaves/train-00003-of-00010.tfrecord\n",
      "Wrote 1263 in 4.02\n"
     ]
    },
    {
     "name": "stderr",
     "output_type": "stream",
     "text": [
      "  3%|▎         | 33/1263 [00:00<00:03, 329.20it/s]"
     ]
    },
    {
     "name": "stdout",
     "output_type": "stream",
     "text": [
      "Writing /media/data/jacob/Fossil_Project/data/tfrecord_data/A+B_train_val_test/PNAS+Leaves/train-00004-of-00010.tfrecord\n"
     ]
    },
    {
     "name": "stderr",
     "output_type": "stream",
     "text": [
      "100%|██████████| 1263/1263 [00:04<00:00, 312.16it/s]\n"
     ]
    },
    {
     "name": "stdout",
     "output_type": "stream",
     "text": [
      "Logged TFRecord\n",
      "Finished /media/data/jacob/Fossil_Project/data/tfrecord_data/A+B_train_val_test/PNAS+Leaves/train-00004-of-00010.tfrecord\n",
      "Wrote 1263 in 4.05\n"
     ]
    },
    {
     "name": "stderr",
     "output_type": "stream",
     "text": [
      "  2%|▏         | 31/1263 [00:00<00:03, 308.94it/s]"
     ]
    },
    {
     "name": "stdout",
     "output_type": "stream",
     "text": [
      "Writing /media/data/jacob/Fossil_Project/data/tfrecord_data/A+B_train_val_test/PNAS+Leaves/train-00005-of-00010.tfrecord\n"
     ]
    },
    {
     "name": "stderr",
     "output_type": "stream",
     "text": [
      "100%|██████████| 1263/1263 [00:03<00:00, 316.44it/s]\n"
     ]
    },
    {
     "name": "stdout",
     "output_type": "stream",
     "text": [
      "Logged TFRecord\n",
      "Finished /media/data/jacob/Fossil_Project/data/tfrecord_data/A+B_train_val_test/PNAS+Leaves/train-00005-of-00010.tfrecord\n",
      "Wrote 1263 in 4.00\n"
     ]
    },
    {
     "name": "stderr",
     "output_type": "stream",
     "text": [
      "  2%|▏         | 31/1263 [00:00<00:03, 309.82it/s]"
     ]
    },
    {
     "name": "stdout",
     "output_type": "stream",
     "text": [
      "Writing /media/data/jacob/Fossil_Project/data/tfrecord_data/A+B_train_val_test/PNAS+Leaves/train-00006-of-00010.tfrecord\n"
     ]
    },
    {
     "name": "stderr",
     "output_type": "stream",
     "text": [
      "100%|██████████| 1263/1263 [00:04<00:00, 306.29it/s]\n"
     ]
    },
    {
     "name": "stdout",
     "output_type": "stream",
     "text": [
      "Logged TFRecord\n",
      "Finished /media/data/jacob/Fossil_Project/data/tfrecord_data/A+B_train_val_test/PNAS+Leaves/train-00006-of-00010.tfrecord\n",
      "Wrote 1263 in 4.13\n"
     ]
    },
    {
     "name": "stderr",
     "output_type": "stream",
     "text": [
      "  3%|▎         | 33/1263 [00:00<00:03, 328.41it/s]"
     ]
    },
    {
     "name": "stdout",
     "output_type": "stream",
     "text": [
      "Writing /media/data/jacob/Fossil_Project/data/tfrecord_data/A+B_train_val_test/PNAS+Leaves/train-00007-of-00010.tfrecord\n"
     ]
    },
    {
     "name": "stderr",
     "output_type": "stream",
     "text": [
      "100%|██████████| 1263/1263 [00:04<00:00, 314.98it/s]\n"
     ]
    },
    {
     "name": "stdout",
     "output_type": "stream",
     "text": [
      "Logged TFRecord\n",
      "Finished /media/data/jacob/Fossil_Project/data/tfrecord_data/A+B_train_val_test/PNAS+Leaves/train-00007-of-00010.tfrecord\n",
      "Wrote 1263 in 4.01\n"
     ]
    },
    {
     "name": "stderr",
     "output_type": "stream",
     "text": [
      "  3%|▎         | 33/1263 [00:00<00:03, 320.87it/s]"
     ]
    },
    {
     "name": "stdout",
     "output_type": "stream",
     "text": [
      "Writing /media/data/jacob/Fossil_Project/data/tfrecord_data/A+B_train_val_test/PNAS+Leaves/train-00008-of-00010.tfrecord\n"
     ]
    },
    {
     "name": "stderr",
     "output_type": "stream",
     "text": [
      "100%|██████████| 1263/1263 [00:03<00:00, 318.56it/s]\n"
     ]
    },
    {
     "name": "stdout",
     "output_type": "stream",
     "text": [
      "Logged TFRecord\n",
      "Finished /media/data/jacob/Fossil_Project/data/tfrecord_data/A+B_train_val_test/PNAS+Leaves/train-00008-of-00010.tfrecord\n",
      "Wrote 1263 in 3.99\n"
     ]
    },
    {
     "name": "stderr",
     "output_type": "stream",
     "text": [
      "  3%|▎         | 34/1263 [00:00<00:03, 334.75it/s]"
     ]
    },
    {
     "name": "stdout",
     "output_type": "stream",
     "text": [
      "Writing /media/data/jacob/Fossil_Project/data/tfrecord_data/A+B_train_val_test/PNAS+Leaves/train-00009-of-00010.tfrecord\n"
     ]
    },
    {
     "name": "stderr",
     "output_type": "stream",
     "text": [
      "100%|██████████| 1263/1263 [00:03<00:00, 319.45it/s]\n",
      "100%|██████████| 5/5 [00:00<00:00, 306.39it/s]\n"
     ]
    },
    {
     "name": "stdout",
     "output_type": "stream",
     "text": [
      "Logged TFRecord\n",
      "Finished /media/data/jacob/Fossil_Project/data/tfrecord_data/A+B_train_val_test/PNAS+Leaves/train-00009-of-00010.tfrecord\n",
      "Wrote 1263 in 3.96\n",
      "Writing /media/data/jacob/Fossil_Project/data/tfrecord_data/A+B_train_val_test/PNAS+Leaves/train-00010-of-00010.tfrecord\n",
      "Logged TFRecord\n",
      "Finished /media/data/jacob/Fossil_Project/data/tfrecord_data/A+B_train_val_test/PNAS+Leaves/train-00010-of-00010.tfrecord\n",
      "Wrote 5 in 0.03\n",
      "PNAS+Leaves train took 774.34 sec to collect/convert to TFRecords\n",
      "saved 3159 samples to /media/data_cifs/jacob/Fossil_Project/data/csv_data/A+B_train_val_test/PNAS+Leaves/val_data.csv\n",
      "Starting to split val subset with 3159 total samples into 10 shards\n",
      "converting 3159 images to tfrecord\n",
      "self.num_shards 10\n"
     ]
    },
    {
     "name": "stderr",
     "output_type": "stream",
     "text": [
      " 10%|▉         | 31/315 [00:00<00:00, 301.53it/s]"
     ]
    },
    {
     "name": "stdout",
     "output_type": "stream",
     "text": [
      "Writing /media/data/jacob/Fossil_Project/data/tfrecord_data/A+B_train_val_test/PNAS+Leaves/val-00000-of-00010.tfrecord\n"
     ]
    },
    {
     "name": "stderr",
     "output_type": "stream",
     "text": [
      "100%|██████████| 315/315 [00:01<00:00, 296.54it/s]\n"
     ]
    },
    {
     "name": "stdout",
     "output_type": "stream",
     "text": [
      "Logged TFRecord\n",
      "Finished /media/data/jacob/Fossil_Project/data/tfrecord_data/A+B_train_val_test/PNAS+Leaves/val-00000-of-00010.tfrecord\n",
      "Wrote 315 in 1.07\n"
     ]
    },
    {
     "name": "stderr",
     "output_type": "stream",
     "text": [
      " 10%|█         | 32/315 [00:00<00:00, 312.51it/s]"
     ]
    },
    {
     "name": "stdout",
     "output_type": "stream",
     "text": [
      "Writing /media/data/jacob/Fossil_Project/data/tfrecord_data/A+B_train_val_test/PNAS+Leaves/val-00001-of-00010.tfrecord\n"
     ]
    },
    {
     "name": "stderr",
     "output_type": "stream",
     "text": [
      "100%|██████████| 315/315 [00:01<00:00, 312.64it/s]\n"
     ]
    },
    {
     "name": "stdout",
     "output_type": "stream",
     "text": [
      "Logged TFRecord\n",
      "Finished /media/data/jacob/Fossil_Project/data/tfrecord_data/A+B_train_val_test/PNAS+Leaves/val-00001-of-00010.tfrecord\n",
      "Wrote 315 in 1.01\n"
     ]
    },
    {
     "name": "stderr",
     "output_type": "stream",
     "text": [
      " 10%|█         | 33/315 [00:00<00:00, 329.28it/s]"
     ]
    },
    {
     "name": "stdout",
     "output_type": "stream",
     "text": [
      "Writing /media/data/jacob/Fossil_Project/data/tfrecord_data/A+B_train_val_test/PNAS+Leaves/val-00002-of-00010.tfrecord\n"
     ]
    },
    {
     "name": "stderr",
     "output_type": "stream",
     "text": [
      "100%|██████████| 315/315 [00:00<00:00, 324.94it/s]\n"
     ]
    },
    {
     "name": "stdout",
     "output_type": "stream",
     "text": [
      "Logged TFRecord\n",
      "Finished /media/data/jacob/Fossil_Project/data/tfrecord_data/A+B_train_val_test/PNAS+Leaves/val-00002-of-00010.tfrecord\n",
      "Wrote 315 in 0.97\n"
     ]
    },
    {
     "name": "stderr",
     "output_type": "stream",
     "text": [
      " 10%|█         | 33/315 [00:00<00:00, 320.73it/s]"
     ]
    },
    {
     "name": "stdout",
     "output_type": "stream",
     "text": [
      "Writing /media/data/jacob/Fossil_Project/data/tfrecord_data/A+B_train_val_test/PNAS+Leaves/val-00003-of-00010.tfrecord\n"
     ]
    },
    {
     "name": "stderr",
     "output_type": "stream",
     "text": [
      "100%|██████████| 315/315 [00:01<00:00, 311.89it/s]\n"
     ]
    },
    {
     "name": "stdout",
     "output_type": "stream",
     "text": [
      "Logged TFRecord\n",
      "Finished /media/data/jacob/Fossil_Project/data/tfrecord_data/A+B_train_val_test/PNAS+Leaves/val-00003-of-00010.tfrecord\n",
      "Wrote 315 in 1.02\n"
     ]
    },
    {
     "name": "stderr",
     "output_type": "stream",
     "text": [
      " 10%|█         | 32/315 [00:00<00:00, 319.98it/s]"
     ]
    },
    {
     "name": "stdout",
     "output_type": "stream",
     "text": [
      "Writing /media/data/jacob/Fossil_Project/data/tfrecord_data/A+B_train_val_test/PNAS+Leaves/val-00004-of-00010.tfrecord\n"
     ]
    },
    {
     "name": "stderr",
     "output_type": "stream",
     "text": [
      "100%|██████████| 315/315 [00:01<00:00, 314.66it/s]\n"
     ]
    },
    {
     "name": "stdout",
     "output_type": "stream",
     "text": [
      "Logged TFRecord\n",
      "Finished /media/data/jacob/Fossil_Project/data/tfrecord_data/A+B_train_val_test/PNAS+Leaves/val-00004-of-00010.tfrecord\n",
      "Wrote 315 in 1.01\n"
     ]
    },
    {
     "name": "stderr",
     "output_type": "stream",
     "text": [
      " 10%|█         | 33/315 [00:00<00:00, 325.26it/s]"
     ]
    },
    {
     "name": "stdout",
     "output_type": "stream",
     "text": [
      "Writing /media/data/jacob/Fossil_Project/data/tfrecord_data/A+B_train_val_test/PNAS+Leaves/val-00005-of-00010.tfrecord\n"
     ]
    },
    {
     "name": "stderr",
     "output_type": "stream",
     "text": [
      "100%|██████████| 315/315 [00:00<00:00, 316.95it/s]\n"
     ]
    },
    {
     "name": "stdout",
     "output_type": "stream",
     "text": [
      "Logged TFRecord\n",
      "Finished /media/data/jacob/Fossil_Project/data/tfrecord_data/A+B_train_val_test/PNAS+Leaves/val-00005-of-00010.tfrecord\n",
      "Wrote 315 in 1.00\n"
     ]
    },
    {
     "name": "stderr",
     "output_type": "stream",
     "text": [
      " 10%|█         | 32/315 [00:00<00:00, 317.28it/s]"
     ]
    },
    {
     "name": "stdout",
     "output_type": "stream",
     "text": [
      "Writing /media/data/jacob/Fossil_Project/data/tfrecord_data/A+B_train_val_test/PNAS+Leaves/val-00006-of-00010.tfrecord\n"
     ]
    },
    {
     "name": "stderr",
     "output_type": "stream",
     "text": [
      "100%|██████████| 315/315 [00:01<00:00, 310.54it/s]\n"
     ]
    },
    {
     "name": "stdout",
     "output_type": "stream",
     "text": [
      "Logged TFRecord\n",
      "Finished /media/data/jacob/Fossil_Project/data/tfrecord_data/A+B_train_val_test/PNAS+Leaves/val-00006-of-00010.tfrecord\n",
      "Wrote 315 in 1.02\n"
     ]
    },
    {
     "name": "stderr",
     "output_type": "stream",
     "text": [
      " 10%|▉         | 31/315 [00:00<00:00, 301.08it/s]"
     ]
    },
    {
     "name": "stdout",
     "output_type": "stream",
     "text": [
      "Writing /media/data/jacob/Fossil_Project/data/tfrecord_data/A+B_train_val_test/PNAS+Leaves/val-00007-of-00010.tfrecord\n"
     ]
    },
    {
     "name": "stderr",
     "output_type": "stream",
     "text": [
      "100%|██████████| 315/315 [00:00<00:00, 315.33it/s]\n"
     ]
    },
    {
     "name": "stdout",
     "output_type": "stream",
     "text": [
      "Logged TFRecord\n",
      "Finished /media/data/jacob/Fossil_Project/data/tfrecord_data/A+B_train_val_test/PNAS+Leaves/val-00007-of-00010.tfrecord\n",
      "Wrote 315 in 1.00\n"
     ]
    },
    {
     "name": "stderr",
     "output_type": "stream",
     "text": [
      " 10%|▉         | 31/315 [00:00<00:00, 306.91it/s]"
     ]
    },
    {
     "name": "stdout",
     "output_type": "stream",
     "text": [
      "Writing /media/data/jacob/Fossil_Project/data/tfrecord_data/A+B_train_val_test/PNAS+Leaves/val-00008-of-00010.tfrecord\n"
     ]
    },
    {
     "name": "stderr",
     "output_type": "stream",
     "text": [
      "100%|██████████| 315/315 [00:01<00:00, 308.29it/s]\n"
     ]
    },
    {
     "name": "stdout",
     "output_type": "stream",
     "text": [
      "Logged TFRecord\n",
      "Finished /media/data/jacob/Fossil_Project/data/tfrecord_data/A+B_train_val_test/PNAS+Leaves/val-00008-of-00010.tfrecord\n",
      "Wrote 315 in 1.04\n"
     ]
    },
    {
     "name": "stderr",
     "output_type": "stream",
     "text": [
      " 11%|█         | 34/315 [00:00<00:00, 330.10it/s]"
     ]
    },
    {
     "name": "stdout",
     "output_type": "stream",
     "text": [
      "Writing /media/data/jacob/Fossil_Project/data/tfrecord_data/A+B_train_val_test/PNAS+Leaves/val-00009-of-00010.tfrecord\n"
     ]
    },
    {
     "name": "stderr",
     "output_type": "stream",
     "text": [
      "100%|██████████| 315/315 [00:00<00:00, 319.28it/s]\n",
      "100%|██████████| 9/9 [00:00<00:00, 313.42it/s]\n"
     ]
    },
    {
     "name": "stdout",
     "output_type": "stream",
     "text": [
      "Logged TFRecord\n",
      "Finished /media/data/jacob/Fossil_Project/data/tfrecord_data/A+B_train_val_test/PNAS+Leaves/val-00009-of-00010.tfrecord\n",
      "Wrote 315 in 0.99\n",
      "Writing /media/data/jacob/Fossil_Project/data/tfrecord_data/A+B_train_val_test/PNAS+Leaves/val-00010-of-00010.tfrecord\n",
      "Logged TFRecord\n",
      "Finished /media/data/jacob/Fossil_Project/data/tfrecord_data/A+B_train_val_test/PNAS+Leaves/val-00010-of-00010.tfrecord\n",
      "Wrote 9 in 0.03\n",
      "PNAS+Leaves val took 195.74 sec to collect/convert to TFRecords\n",
      "saved 15795 samples to /media/data_cifs/jacob/Fossil_Project/data/csv_data/A+B_train_val_test/PNAS+Leaves/test_data.csv\n",
      "Starting to split test subset with 15795 total samples into 10 shards\n",
      "converting 15795 images to tfrecord\n",
      "self.num_shards 10\n"
     ]
    },
    {
     "name": "stderr",
     "output_type": "stream",
     "text": [
      "  2%|▏         | 32/1579 [00:00<00:04, 317.16it/s]"
     ]
    },
    {
     "name": "stdout",
     "output_type": "stream",
     "text": [
      "Writing /media/data/jacob/Fossil_Project/data/tfrecord_data/A+B_train_val_test/PNAS+Leaves/test-00000-of-00010.tfrecord\n"
     ]
    },
    {
     "name": "stderr",
     "output_type": "stream",
     "text": [
      "100%|██████████| 1579/1579 [00:05<00:00, 312.82it/s]\n"
     ]
    },
    {
     "name": "stdout",
     "output_type": "stream",
     "text": [
      "Logged TFRecord\n",
      "Finished /media/data/jacob/Fossil_Project/data/tfrecord_data/A+B_train_val_test/PNAS+Leaves/test-00000-of-00010.tfrecord\n",
      "Wrote 1579 in 5.06\n"
     ]
    },
    {
     "name": "stderr",
     "output_type": "stream",
     "text": [
      "  2%|▏         | 33/1579 [00:00<00:04, 324.28it/s]"
     ]
    },
    {
     "name": "stdout",
     "output_type": "stream",
     "text": [
      "Writing /media/data/jacob/Fossil_Project/data/tfrecord_data/A+B_train_val_test/PNAS+Leaves/test-00001-of-00010.tfrecord\n"
     ]
    },
    {
     "name": "stderr",
     "output_type": "stream",
     "text": [
      "100%|██████████| 1579/1579 [00:05<00:00, 315.00it/s]\n"
     ]
    },
    {
     "name": "stdout",
     "output_type": "stream",
     "text": [
      "Logged TFRecord\n",
      "Finished /media/data/jacob/Fossil_Project/data/tfrecord_data/A+B_train_val_test/PNAS+Leaves/test-00001-of-00010.tfrecord\n",
      "Wrote 1579 in 5.02\n"
     ]
    },
    {
     "name": "stderr",
     "output_type": "stream",
     "text": [
      "  2%|▏         | 28/1579 [00:00<00:05, 277.21it/s]"
     ]
    },
    {
     "name": "stdout",
     "output_type": "stream",
     "text": [
      "Writing /media/data/jacob/Fossil_Project/data/tfrecord_data/A+B_train_val_test/PNAS+Leaves/test-00002-of-00010.tfrecord\n"
     ]
    },
    {
     "name": "stderr",
     "output_type": "stream",
     "text": [
      "100%|██████████| 1579/1579 [00:05<00:00, 309.24it/s]\n"
     ]
    },
    {
     "name": "stdout",
     "output_type": "stream",
     "text": [
      "Logged TFRecord\n",
      "Finished /media/data/jacob/Fossil_Project/data/tfrecord_data/A+B_train_val_test/PNAS+Leaves/test-00002-of-00010.tfrecord\n",
      "Wrote 1579 in 5.11\n"
     ]
    },
    {
     "name": "stderr",
     "output_type": "stream",
     "text": [
      "  2%|▏         | 30/1579 [00:00<00:05, 299.96it/s]"
     ]
    },
    {
     "name": "stdout",
     "output_type": "stream",
     "text": [
      "Writing /media/data/jacob/Fossil_Project/data/tfrecord_data/A+B_train_val_test/PNAS+Leaves/test-00003-of-00010.tfrecord\n"
     ]
    },
    {
     "name": "stderr",
     "output_type": "stream",
     "text": [
      "100%|██████████| 1579/1579 [00:05<00:00, 313.43it/s]\n"
     ]
    },
    {
     "name": "stdout",
     "output_type": "stream",
     "text": [
      "Logged TFRecord\n",
      "Finished /media/data/jacob/Fossil_Project/data/tfrecord_data/A+B_train_val_test/PNAS+Leaves/test-00003-of-00010.tfrecord\n",
      "Wrote 1579 in 5.04\n"
     ]
    },
    {
     "name": "stderr",
     "output_type": "stream",
     "text": [
      "  2%|▏         | 33/1579 [00:00<00:04, 329.40it/s]"
     ]
    },
    {
     "name": "stdout",
     "output_type": "stream",
     "text": [
      "Writing /media/data/jacob/Fossil_Project/data/tfrecord_data/A+B_train_val_test/PNAS+Leaves/test-00004-of-00010.tfrecord\n"
     ]
    },
    {
     "name": "stderr",
     "output_type": "stream",
     "text": [
      "100%|██████████| 1579/1579 [00:05<00:00, 313.63it/s]\n"
     ]
    },
    {
     "name": "stdout",
     "output_type": "stream",
     "text": [
      "Logged TFRecord\n",
      "Finished /media/data/jacob/Fossil_Project/data/tfrecord_data/A+B_train_val_test/PNAS+Leaves/test-00004-of-00010.tfrecord\n",
      "Wrote 1579 in 5.04\n"
     ]
    },
    {
     "name": "stderr",
     "output_type": "stream",
     "text": [
      "  2%|▏         | 33/1579 [00:00<00:04, 322.27it/s]"
     ]
    },
    {
     "name": "stdout",
     "output_type": "stream",
     "text": [
      "Writing /media/data/jacob/Fossil_Project/data/tfrecord_data/A+B_train_val_test/PNAS+Leaves/test-00005-of-00010.tfrecord\n"
     ]
    },
    {
     "name": "stderr",
     "output_type": "stream",
     "text": [
      "100%|██████████| 1579/1579 [00:04<00:00, 315.86it/s]\n"
     ]
    },
    {
     "name": "stdout",
     "output_type": "stream",
     "text": [
      "Logged TFRecord\n",
      "Finished /media/data/jacob/Fossil_Project/data/tfrecord_data/A+B_train_val_test/PNAS+Leaves/test-00005-of-00010.tfrecord\n",
      "Wrote 1579 in 5.00\n"
     ]
    },
    {
     "name": "stderr",
     "output_type": "stream",
     "text": [
      "  2%|▏         | 33/1579 [00:00<00:04, 324.61it/s]"
     ]
    },
    {
     "name": "stdout",
     "output_type": "stream",
     "text": [
      "Writing /media/data/jacob/Fossil_Project/data/tfrecord_data/A+B_train_val_test/PNAS+Leaves/test-00006-of-00010.tfrecord\n"
     ]
    },
    {
     "name": "stderr",
     "output_type": "stream",
     "text": [
      "100%|██████████| 1579/1579 [00:04<00:00, 316.80it/s]\n"
     ]
    },
    {
     "name": "stdout",
     "output_type": "stream",
     "text": [
      "Logged TFRecord\n",
      "Finished /media/data/jacob/Fossil_Project/data/tfrecord_data/A+B_train_val_test/PNAS+Leaves/test-00006-of-00010.tfrecord\n",
      "Wrote 1579 in 4.99\n"
     ]
    },
    {
     "name": "stderr",
     "output_type": "stream",
     "text": [
      "  2%|▏         | 32/1579 [00:00<00:04, 319.21it/s]"
     ]
    },
    {
     "name": "stdout",
     "output_type": "stream",
     "text": [
      "Writing /media/data/jacob/Fossil_Project/data/tfrecord_data/A+B_train_val_test/PNAS+Leaves/test-00007-of-00010.tfrecord\n"
     ]
    },
    {
     "name": "stderr",
     "output_type": "stream",
     "text": [
      "100%|██████████| 1579/1579 [00:04<00:00, 318.65it/s]\n"
     ]
    },
    {
     "name": "stdout",
     "output_type": "stream",
     "text": [
      "Logged TFRecord\n",
      "Finished /media/data/jacob/Fossil_Project/data/tfrecord_data/A+B_train_val_test/PNAS+Leaves/test-00007-of-00010.tfrecord\n",
      "Wrote 1579 in 4.96\n"
     ]
    },
    {
     "name": "stderr",
     "output_type": "stream",
     "text": [
      "  2%|▏         | 33/1579 [00:00<00:04, 318.60it/s]"
     ]
    },
    {
     "name": "stdout",
     "output_type": "stream",
     "text": [
      "Writing /media/data/jacob/Fossil_Project/data/tfrecord_data/A+B_train_val_test/PNAS+Leaves/test-00008-of-00010.tfrecord\n"
     ]
    },
    {
     "name": "stderr",
     "output_type": "stream",
     "text": [
      "100%|██████████| 1579/1579 [00:04<00:00, 320.57it/s]\n"
     ]
    },
    {
     "name": "stdout",
     "output_type": "stream",
     "text": [
      "Logged TFRecord\n",
      "Finished /media/data/jacob/Fossil_Project/data/tfrecord_data/A+B_train_val_test/PNAS+Leaves/test-00008-of-00010.tfrecord\n",
      "Wrote 1579 in 4.94\n"
     ]
    },
    {
     "name": "stderr",
     "output_type": "stream",
     "text": [
      "  2%|▏         | 32/1579 [00:00<00:04, 314.91it/s]"
     ]
    },
    {
     "name": "stdout",
     "output_type": "stream",
     "text": [
      "Writing /media/data/jacob/Fossil_Project/data/tfrecord_data/A+B_train_val_test/PNAS+Leaves/test-00009-of-00010.tfrecord\n"
     ]
    },
    {
     "name": "stderr",
     "output_type": "stream",
     "text": [
      "100%|██████████| 1579/1579 [00:04<00:00, 318.16it/s]\n",
      "100%|██████████| 5/5 [00:00<00:00, 247.69it/s]\n"
     ]
    },
    {
     "name": "stdout",
     "output_type": "stream",
     "text": [
      "Logged TFRecord\n",
      "Finished /media/data/jacob/Fossil_Project/data/tfrecord_data/A+B_train_val_test/PNAS+Leaves/test-00009-of-00010.tfrecord\n",
      "Wrote 1579 in 4.97\n",
      "Writing /media/data/jacob/Fossil_Project/data/tfrecord_data/A+B_train_val_test/PNAS+Leaves/test-00010-of-00010.tfrecord\n",
      "Logged TFRecord\n",
      "Finished /media/data/jacob/Fossil_Project/data/tfrecord_data/A+B_train_val_test/PNAS+Leaves/test-00010-of-00010.tfrecord\n",
      "Wrote 5 in 0.02\n",
      "PNAS+Leaves test took 1063.83 sec to collect/convert to TFRecords\n",
      "Full experiment took a total of 2037.7148036956787\n",
      "BEGINNING  run_id                           2200\n",
      "experiment_type    A+B_train_val_test\n",
      "dataset_A                      Fossil\n",
      "dataset_B                      Leaves\n",
      "Name: 5, dtype: object\n",
      "A: Fossil:\n",
      "    num_samples: 6122\n",
      "    num_classes: 27\n",
      "    class_count_threshold: 0\n",
      "        \n",
      "B: Leaves:\n",
      "    num_samples: 26953\n",
      "    num_classes: 376\n",
      "    class_count_threshold: 0\n",
      "        \n",
      "A+B: Fossil+Leaves:\n",
      "    num_samples: 33075\n",
      "    num_classes: 380\n",
      "    class_count_threshold: 0\n",
      "        \n",
      "train 0.4 (0, 12963)\n",
      "val 0.1 (12963, 16204)\n",
      "test 0.5 (16204, 32409)\n",
      "A+B: Fossil+Leaves:\n",
      "    num_samples: 32409\n",
      "    num_classes: 195\n",
      "    class_count_threshold: 10\n",
      "        \n",
      "saved 12963 samples to /media/data_cifs/jacob/Fossil_Project/data/csv_data/A+B_train_val_test/Fossil+Leaves/train_data.csv\n",
      "Starting to split train subset with 12963 total samples into 10 shards\n",
      "converting 12963 images to tfrecord\n",
      "self.num_shards 10\n"
     ]
    },
    {
     "name": "stderr",
     "output_type": "stream",
     "text": [
      "  3%|▎         | 34/1296 [00:00<00:03, 333.40it/s]"
     ]
    },
    {
     "name": "stdout",
     "output_type": "stream",
     "text": [
      "Writing /media/data/jacob/Fossil_Project/data/tfrecord_data/A+B_train_val_test/Fossil+Leaves/train-00000-of-00010.tfrecord\n"
     ]
    },
    {
     "name": "stderr",
     "output_type": "stream",
     "text": [
      "100%|██████████| 1296/1296 [00:04<00:00, 312.37it/s]\n"
     ]
    },
    {
     "name": "stdout",
     "output_type": "stream",
     "text": [
      "Logged TFRecord\n",
      "Finished /media/data/jacob/Fossil_Project/data/tfrecord_data/A+B_train_val_test/Fossil+Leaves/train-00000-of-00010.tfrecord\n",
      "Wrote 1296 in 4.16\n"
     ]
    },
    {
     "name": "stderr",
     "output_type": "stream",
     "text": [
      "  2%|▏         | 22/1296 [00:00<00:08, 158.15it/s]"
     ]
    },
    {
     "name": "stdout",
     "output_type": "stream",
     "text": [
      "Writing /media/data/jacob/Fossil_Project/data/tfrecord_data/A+B_train_val_test/Fossil+Leaves/train-00001-of-00010.tfrecord\n"
     ]
    },
    {
     "name": "stderr",
     "output_type": "stream",
     "text": [
      "100%|██████████| 1296/1296 [00:04<00:00, 318.36it/s]\n"
     ]
    },
    {
     "name": "stdout",
     "output_type": "stream",
     "text": [
      "Logged TFRecord\n",
      "Finished /media/data/jacob/Fossil_Project/data/tfrecord_data/A+B_train_val_test/Fossil+Leaves/train-00001-of-00010.tfrecord\n",
      "Wrote 1296 in 4.08\n"
     ]
    },
    {
     "name": "stderr",
     "output_type": "stream",
     "text": [
      "  3%|▎         | 34/1296 [00:00<00:03, 337.48it/s]"
     ]
    },
    {
     "name": "stdout",
     "output_type": "stream",
     "text": [
      "Writing /media/data/jacob/Fossil_Project/data/tfrecord_data/A+B_train_val_test/Fossil+Leaves/train-00002-of-00010.tfrecord\n"
     ]
    },
    {
     "name": "stderr",
     "output_type": "stream",
     "text": [
      "100%|██████████| 1296/1296 [00:03<00:00, 325.68it/s]\n"
     ]
    },
    {
     "name": "stdout",
     "output_type": "stream",
     "text": [
      "Logged TFRecord\n",
      "Finished /media/data/jacob/Fossil_Project/data/tfrecord_data/A+B_train_val_test/Fossil+Leaves/train-00002-of-00010.tfrecord\n",
      "Wrote 1296 in 3.99\n"
     ]
    },
    {
     "name": "stderr",
     "output_type": "stream",
     "text": [
      "  3%|▎         | 34/1296 [00:00<00:03, 331.01it/s]"
     ]
    },
    {
     "name": "stdout",
     "output_type": "stream",
     "text": [
      "Writing /media/data/jacob/Fossil_Project/data/tfrecord_data/A+B_train_val_test/Fossil+Leaves/train-00003-of-00010.tfrecord\n"
     ]
    },
    {
     "name": "stderr",
     "output_type": "stream",
     "text": [
      "100%|██████████| 1296/1296 [00:03<00:00, 326.75it/s]\n"
     ]
    },
    {
     "name": "stdout",
     "output_type": "stream",
     "text": [
      "Logged TFRecord\n",
      "Finished /media/data/jacob/Fossil_Project/data/tfrecord_data/A+B_train_val_test/Fossil+Leaves/train-00003-of-00010.tfrecord\n",
      "Wrote 1296 in 3.97\n"
     ]
    },
    {
     "name": "stderr",
     "output_type": "stream",
     "text": [
      "  3%|▎         | 33/1296 [00:00<00:03, 327.61it/s]"
     ]
    },
    {
     "name": "stdout",
     "output_type": "stream",
     "text": [
      "Writing /media/data/jacob/Fossil_Project/data/tfrecord_data/A+B_train_val_test/Fossil+Leaves/train-00004-of-00010.tfrecord\n"
     ]
    },
    {
     "name": "stderr",
     "output_type": "stream",
     "text": [
      "100%|██████████| 1296/1296 [00:04<00:00, 320.44it/s]\n"
     ]
    },
    {
     "name": "stdout",
     "output_type": "stream",
     "text": [
      "Logged TFRecord\n",
      "Finished /media/data/jacob/Fossil_Project/data/tfrecord_data/A+B_train_val_test/Fossil+Leaves/train-00004-of-00010.tfrecord\n",
      "Wrote 1296 in 4.05\n"
     ]
    },
    {
     "name": "stderr",
     "output_type": "stream",
     "text": [
      "  2%|▏         | 31/1296 [00:00<00:04, 309.11it/s]"
     ]
    },
    {
     "name": "stdout",
     "output_type": "stream",
     "text": [
      "Writing /media/data/jacob/Fossil_Project/data/tfrecord_data/A+B_train_val_test/Fossil+Leaves/train-00005-of-00010.tfrecord\n"
     ]
    },
    {
     "name": "stderr",
     "output_type": "stream",
     "text": [
      "100%|██████████| 1296/1296 [00:04<00:00, 317.93it/s]\n"
     ]
    },
    {
     "name": "stdout",
     "output_type": "stream",
     "text": [
      "Logged TFRecord\n",
      "Finished /media/data/jacob/Fossil_Project/data/tfrecord_data/A+B_train_val_test/Fossil+Leaves/train-00005-of-00010.tfrecord\n",
      "Wrote 1296 in 4.08\n"
     ]
    },
    {
     "name": "stderr",
     "output_type": "stream",
     "text": [
      "  3%|▎         | 35/1296 [00:00<00:03, 342.47it/s]"
     ]
    },
    {
     "name": "stdout",
     "output_type": "stream",
     "text": [
      "Writing /media/data/jacob/Fossil_Project/data/tfrecord_data/A+B_train_val_test/Fossil+Leaves/train-00006-of-00010.tfrecord\n"
     ]
    },
    {
     "name": "stderr",
     "output_type": "stream",
     "text": [
      "100%|██████████| 1296/1296 [00:03<00:00, 327.55it/s]\n"
     ]
    },
    {
     "name": "stdout",
     "output_type": "stream",
     "text": [
      "Logged TFRecord\n",
      "Finished /media/data/jacob/Fossil_Project/data/tfrecord_data/A+B_train_val_test/Fossil+Leaves/train-00006-of-00010.tfrecord\n",
      "Wrote 1296 in 3.96\n"
     ]
    },
    {
     "name": "stderr",
     "output_type": "stream",
     "text": [
      "  3%|▎         | 33/1296 [00:00<00:03, 321.83it/s]"
     ]
    },
    {
     "name": "stdout",
     "output_type": "stream",
     "text": [
      "Writing /media/data/jacob/Fossil_Project/data/tfrecord_data/A+B_train_val_test/Fossil+Leaves/train-00007-of-00010.tfrecord\n"
     ]
    },
    {
     "name": "stderr",
     "output_type": "stream",
     "text": [
      "100%|██████████| 1296/1296 [00:03<00:00, 324.83it/s]\n"
     ]
    },
    {
     "name": "stdout",
     "output_type": "stream",
     "text": [
      "Logged TFRecord\n",
      "Finished /media/data/jacob/Fossil_Project/data/tfrecord_data/A+B_train_val_test/Fossil+Leaves/train-00007-of-00010.tfrecord\n",
      "Wrote 1296 in 4.00\n"
     ]
    },
    {
     "name": "stderr",
     "output_type": "stream",
     "text": [
      "  2%|▏         | 32/1296 [00:00<00:03, 318.32it/s]"
     ]
    },
    {
     "name": "stdout",
     "output_type": "stream",
     "text": [
      "Writing /media/data/jacob/Fossil_Project/data/tfrecord_data/A+B_train_val_test/Fossil+Leaves/train-00008-of-00010.tfrecord\n"
     ]
    },
    {
     "name": "stderr",
     "output_type": "stream",
     "text": [
      "100%|██████████| 1296/1296 [00:04<00:00, 319.78it/s]\n"
     ]
    },
    {
     "name": "stdout",
     "output_type": "stream",
     "text": [
      "Logged TFRecord\n",
      "Finished /media/data/jacob/Fossil_Project/data/tfrecord_data/A+B_train_val_test/Fossil+Leaves/train-00008-of-00010.tfrecord\n",
      "Wrote 1296 in 4.07\n"
     ]
    },
    {
     "name": "stderr",
     "output_type": "stream",
     "text": [
      "  3%|▎         | 33/1296 [00:00<00:03, 325.92it/s]"
     ]
    },
    {
     "name": "stdout",
     "output_type": "stream",
     "text": [
      "Writing /media/data/jacob/Fossil_Project/data/tfrecord_data/A+B_train_val_test/Fossil+Leaves/train-00009-of-00010.tfrecord\n"
     ]
    },
    {
     "name": "stderr",
     "output_type": "stream",
     "text": [
      "100%|██████████| 1296/1296 [00:03<00:00, 329.39it/s]\n",
      "100%|██████████| 3/3 [00:00<00:00, 229.72it/s]\n"
     ]
    },
    {
     "name": "stdout",
     "output_type": "stream",
     "text": [
      "Logged TFRecord\n",
      "Finished /media/data/jacob/Fossil_Project/data/tfrecord_data/A+B_train_val_test/Fossil+Leaves/train-00009-of-00010.tfrecord\n",
      "Wrote 1296 in 3.94\n",
      "Writing /media/data/jacob/Fossil_Project/data/tfrecord_data/A+B_train_val_test/Fossil+Leaves/train-00010-of-00010.tfrecord\n",
      "Logged TFRecord\n",
      "Finished /media/data/jacob/Fossil_Project/data/tfrecord_data/A+B_train_val_test/Fossil+Leaves/train-00010-of-00010.tfrecord\n",
      "Wrote 3 in 0.02\n",
      "Fossil+Leaves train took 933.70 sec to collect/convert to TFRecords\n",
      "saved 3241 samples to /media/data_cifs/jacob/Fossil_Project/data/csv_data/A+B_train_val_test/Fossil+Leaves/val_data.csv\n",
      "Starting to split val subset with 3241 total samples into 10 shards\n",
      "converting 3241 images to tfrecord\n",
      "self.num_shards 10\n"
     ]
    },
    {
     "name": "stderr",
     "output_type": "stream",
     "text": [
      " 10%|█         | 34/324 [00:00<00:00, 335.73it/s]"
     ]
    },
    {
     "name": "stdout",
     "output_type": "stream",
     "text": [
      "Writing /media/data/jacob/Fossil_Project/data/tfrecord_data/A+B_train_val_test/Fossil+Leaves/val-00000-of-00010.tfrecord\n"
     ]
    },
    {
     "name": "stderr",
     "output_type": "stream",
     "text": [
      "100%|██████████| 324/324 [00:00<00:00, 325.92it/s]\n"
     ]
    },
    {
     "name": "stdout",
     "output_type": "stream",
     "text": [
      "Logged TFRecord\n",
      "Finished /media/data/jacob/Fossil_Project/data/tfrecord_data/A+B_train_val_test/Fossil+Leaves/val-00000-of-00010.tfrecord\n",
      "Wrote 324 in 1.00\n"
     ]
    },
    {
     "name": "stderr",
     "output_type": "stream",
     "text": [
      " 10%|█         | 34/324 [00:00<00:00, 337.70it/s]"
     ]
    },
    {
     "name": "stdout",
     "output_type": "stream",
     "text": [
      "Writing /media/data/jacob/Fossil_Project/data/tfrecord_data/A+B_train_val_test/Fossil+Leaves/val-00001-of-00010.tfrecord\n"
     ]
    },
    {
     "name": "stderr",
     "output_type": "stream",
     "text": [
      "100%|██████████| 324/324 [00:00<00:00, 337.52it/s]\n"
     ]
    },
    {
     "name": "stdout",
     "output_type": "stream",
     "text": [
      "Logged TFRecord\n",
      "Finished /media/data/jacob/Fossil_Project/data/tfrecord_data/A+B_train_val_test/Fossil+Leaves/val-00001-of-00010.tfrecord\n",
      "Wrote 324 in 0.96\n"
     ]
    },
    {
     "name": "stderr",
     "output_type": "stream",
     "text": [
      " 10%|█         | 34/324 [00:00<00:00, 332.78it/s]"
     ]
    },
    {
     "name": "stdout",
     "output_type": "stream",
     "text": [
      "Writing /media/data/jacob/Fossil_Project/data/tfrecord_data/A+B_train_val_test/Fossil+Leaves/val-00002-of-00010.tfrecord\n"
     ]
    },
    {
     "name": "stderr",
     "output_type": "stream",
     "text": [
      "100%|██████████| 324/324 [00:00<00:00, 329.46it/s]\n"
     ]
    },
    {
     "name": "stdout",
     "output_type": "stream",
     "text": [
      "Logged TFRecord\n",
      "Finished /media/data/jacob/Fossil_Project/data/tfrecord_data/A+B_train_val_test/Fossil+Leaves/val-00002-of-00010.tfrecord\n",
      "Wrote 324 in 0.99\n"
     ]
    },
    {
     "name": "stderr",
     "output_type": "stream",
     "text": [
      " 10%|█         | 34/324 [00:00<00:00, 331.49it/s]"
     ]
    },
    {
     "name": "stdout",
     "output_type": "stream",
     "text": [
      "Writing /media/data/jacob/Fossil_Project/data/tfrecord_data/A+B_train_val_test/Fossil+Leaves/val-00003-of-00010.tfrecord\n"
     ]
    },
    {
     "name": "stderr",
     "output_type": "stream",
     "text": [
      "100%|██████████| 324/324 [00:00<00:00, 324.67it/s]\n"
     ]
    },
    {
     "name": "stdout",
     "output_type": "stream",
     "text": [
      "Logged TFRecord\n",
      "Finished /media/data/jacob/Fossil_Project/data/tfrecord_data/A+B_train_val_test/Fossil+Leaves/val-00003-of-00010.tfrecord\n",
      "Wrote 324 in 1.00\n"
     ]
    },
    {
     "name": "stderr",
     "output_type": "stream",
     "text": [
      "  9%|▉         | 30/324 [00:00<00:00, 296.43it/s]"
     ]
    },
    {
     "name": "stdout",
     "output_type": "stream",
     "text": [
      "Writing /media/data/jacob/Fossil_Project/data/tfrecord_data/A+B_train_val_test/Fossil+Leaves/val-00004-of-00010.tfrecord\n"
     ]
    },
    {
     "name": "stderr",
     "output_type": "stream",
     "text": [
      "100%|██████████| 324/324 [00:00<00:00, 326.53it/s]\n"
     ]
    },
    {
     "name": "stdout",
     "output_type": "stream",
     "text": [
      "Logged TFRecord\n",
      "Finished /media/data/jacob/Fossil_Project/data/tfrecord_data/A+B_train_val_test/Fossil+Leaves/val-00004-of-00010.tfrecord\n",
      "Wrote 324 in 1.00\n"
     ]
    },
    {
     "name": "stderr",
     "output_type": "stream",
     "text": [
      " 10%|█         | 34/324 [00:00<00:00, 333.99it/s]"
     ]
    },
    {
     "name": "stdout",
     "output_type": "stream",
     "text": [
      "Writing /media/data/jacob/Fossil_Project/data/tfrecord_data/A+B_train_val_test/Fossil+Leaves/val-00005-of-00010.tfrecord\n"
     ]
    },
    {
     "name": "stderr",
     "output_type": "stream",
     "text": [
      "100%|██████████| 324/324 [00:00<00:00, 337.27it/s]\n"
     ]
    },
    {
     "name": "stdout",
     "output_type": "stream",
     "text": [
      "Logged TFRecord\n",
      "Finished /media/data/jacob/Fossil_Project/data/tfrecord_data/A+B_train_val_test/Fossil+Leaves/val-00005-of-00010.tfrecord\n",
      "Wrote 324 in 0.98\n"
     ]
    },
    {
     "name": "stderr",
     "output_type": "stream",
     "text": [
      " 10%|█         | 34/324 [00:00<00:00, 331.51it/s]"
     ]
    },
    {
     "name": "stdout",
     "output_type": "stream",
     "text": [
      "Writing /media/data/jacob/Fossil_Project/data/tfrecord_data/A+B_train_val_test/Fossil+Leaves/val-00006-of-00010.tfrecord\n"
     ]
    },
    {
     "name": "stderr",
     "output_type": "stream",
     "text": [
      "100%|██████████| 324/324 [00:00<00:00, 330.08it/s]\n"
     ]
    },
    {
     "name": "stdout",
     "output_type": "stream",
     "text": [
      "Logged TFRecord\n",
      "Finished /media/data/jacob/Fossil_Project/data/tfrecord_data/A+B_train_val_test/Fossil+Leaves/val-00006-of-00010.tfrecord\n",
      "Wrote 324 in 0.99\n"
     ]
    },
    {
     "name": "stderr",
     "output_type": "stream",
     "text": [
      " 11%|█         | 36/324 [00:00<00:00, 359.95it/s]"
     ]
    },
    {
     "name": "stdout",
     "output_type": "stream",
     "text": [
      "Writing /media/data/jacob/Fossil_Project/data/tfrecord_data/A+B_train_val_test/Fossil+Leaves/val-00007-of-00010.tfrecord\n"
     ]
    },
    {
     "name": "stderr",
     "output_type": "stream",
     "text": [
      "100%|██████████| 324/324 [00:00<00:00, 342.62it/s]\n"
     ]
    },
    {
     "name": "stdout",
     "output_type": "stream",
     "text": [
      "Logged TFRecord\n",
      "Finished /media/data/jacob/Fossil_Project/data/tfrecord_data/A+B_train_val_test/Fossil+Leaves/val-00007-of-00010.tfrecord\n",
      "Wrote 324 in 0.95\n"
     ]
    },
    {
     "name": "stderr",
     "output_type": "stream",
     "text": [
      " 10%|█         | 33/324 [00:00<00:00, 329.73it/s]"
     ]
    },
    {
     "name": "stdout",
     "output_type": "stream",
     "text": [
      "Writing /media/data/jacob/Fossil_Project/data/tfrecord_data/A+B_train_val_test/Fossil+Leaves/val-00008-of-00010.tfrecord\n"
     ]
    },
    {
     "name": "stderr",
     "output_type": "stream",
     "text": [
      "100%|██████████| 324/324 [00:00<00:00, 325.56it/s]\n"
     ]
    },
    {
     "name": "stdout",
     "output_type": "stream",
     "text": [
      "Logged TFRecord\n",
      "Finished /media/data/jacob/Fossil_Project/data/tfrecord_data/A+B_train_val_test/Fossil+Leaves/val-00008-of-00010.tfrecord\n",
      "Wrote 324 in 1.00\n"
     ]
    },
    {
     "name": "stderr",
     "output_type": "stream",
     "text": [
      " 10%|█         | 34/324 [00:00<00:00, 332.35it/s]"
     ]
    },
    {
     "name": "stdout",
     "output_type": "stream",
     "text": [
      "Writing /media/data/jacob/Fossil_Project/data/tfrecord_data/A+B_train_val_test/Fossil+Leaves/val-00009-of-00010.tfrecord\n"
     ]
    },
    {
     "name": "stderr",
     "output_type": "stream",
     "text": [
      "100%|██████████| 324/324 [00:00<00:00, 325.35it/s]\n",
      "100%|██████████| 1/1 [00:00<00:00, 266.14it/s]\n"
     ]
    },
    {
     "name": "stdout",
     "output_type": "stream",
     "text": [
      "Logged TFRecord\n",
      "Finished /media/data/jacob/Fossil_Project/data/tfrecord_data/A+B_train_val_test/Fossil+Leaves/val-00009-of-00010.tfrecord\n",
      "Wrote 324 in 1.01\n",
      "Writing /media/data/jacob/Fossil_Project/data/tfrecord_data/A+B_train_val_test/Fossil+Leaves/val-00010-of-00010.tfrecord\n",
      "Logged TFRecord\n",
      "Finished /media/data/jacob/Fossil_Project/data/tfrecord_data/A+B_train_val_test/Fossil+Leaves/val-00010-of-00010.tfrecord\n",
      "Wrote 1 in 0.01\n",
      "Fossil+Leaves val took 265.47 sec to collect/convert to TFRecords\n",
      "saved 16205 samples to /media/data_cifs/jacob/Fossil_Project/data/csv_data/A+B_train_val_test/Fossil+Leaves/test_data.csv\n",
      "Starting to split test subset with 16205 total samples into 10 shards\n",
      "converting 16205 images to tfrecord\n",
      "self.num_shards 10\n"
     ]
    },
    {
     "name": "stderr",
     "output_type": "stream",
     "text": [
      "  2%|▏         | 35/1620 [00:00<00:04, 341.90it/s]"
     ]
    },
    {
     "name": "stdout",
     "output_type": "stream",
     "text": [
      "Writing /media/data/jacob/Fossil_Project/data/tfrecord_data/A+B_train_val_test/Fossil+Leaves/test-00000-of-00010.tfrecord\n"
     ]
    },
    {
     "name": "stderr",
     "output_type": "stream",
     "text": [
      "100%|██████████| 1620/1620 [00:05<00:00, 320.34it/s]\n"
     ]
    },
    {
     "name": "stdout",
     "output_type": "stream",
     "text": [
      "Logged TFRecord\n",
      "Finished /media/data/jacob/Fossil_Project/data/tfrecord_data/A+B_train_val_test/Fossil+Leaves/test-00000-of-00010.tfrecord\n",
      "Wrote 1620 in 5.06\n"
     ]
    },
    {
     "name": "stderr",
     "output_type": "stream",
     "text": [
      "  2%|▏         | 33/1620 [00:00<00:04, 323.18it/s]"
     ]
    },
    {
     "name": "stdout",
     "output_type": "stream",
     "text": [
      "Writing /media/data/jacob/Fossil_Project/data/tfrecord_data/A+B_train_val_test/Fossil+Leaves/test-00001-of-00010.tfrecord\n"
     ]
    },
    {
     "name": "stderr",
     "output_type": "stream",
     "text": [
      "100%|██████████| 1620/1620 [00:05<00:00, 321.79it/s]\n"
     ]
    },
    {
     "name": "stdout",
     "output_type": "stream",
     "text": [
      "Logged TFRecord\n",
      "Finished /media/data/jacob/Fossil_Project/data/tfrecord_data/A+B_train_val_test/Fossil+Leaves/test-00001-of-00010.tfrecord\n",
      "Wrote 1620 in 5.04\n"
     ]
    },
    {
     "name": "stderr",
     "output_type": "stream",
     "text": [
      "  2%|▏         | 33/1620 [00:00<00:04, 325.08it/s]"
     ]
    },
    {
     "name": "stdout",
     "output_type": "stream",
     "text": [
      "Writing /media/data/jacob/Fossil_Project/data/tfrecord_data/A+B_train_val_test/Fossil+Leaves/test-00002-of-00010.tfrecord\n"
     ]
    },
    {
     "name": "stderr",
     "output_type": "stream",
     "text": [
      "100%|██████████| 1620/1620 [00:05<00:00, 302.79it/s]\n"
     ]
    },
    {
     "name": "stdout",
     "output_type": "stream",
     "text": [
      "Logged TFRecord\n",
      "Finished /media/data/jacob/Fossil_Project/data/tfrecord_data/A+B_train_val_test/Fossil+Leaves/test-00002-of-00010.tfrecord\n",
      "Wrote 1620 in 5.36\n"
     ]
    },
    {
     "name": "stderr",
     "output_type": "stream",
     "text": [
      "  2%|▏         | 32/1620 [00:00<00:04, 319.62it/s]"
     ]
    },
    {
     "name": "stdout",
     "output_type": "stream",
     "text": [
      "Writing /media/data/jacob/Fossil_Project/data/tfrecord_data/A+B_train_val_test/Fossil+Leaves/test-00003-of-00010.tfrecord\n"
     ]
    },
    {
     "name": "stderr",
     "output_type": "stream",
     "text": [
      "100%|██████████| 1620/1620 [00:05<00:00, 295.57it/s]\n"
     ]
    },
    {
     "name": "stdout",
     "output_type": "stream",
     "text": [
      "Logged TFRecord\n",
      "Finished /media/data/jacob/Fossil_Project/data/tfrecord_data/A+B_train_val_test/Fossil+Leaves/test-00003-of-00010.tfrecord\n",
      "Wrote 1620 in 5.49\n"
     ]
    },
    {
     "name": "stderr",
     "output_type": "stream",
     "text": [
      "  2%|▏         | 34/1620 [00:00<00:04, 334.08it/s]"
     ]
    },
    {
     "name": "stdout",
     "output_type": "stream",
     "text": [
      "Writing /media/data/jacob/Fossil_Project/data/tfrecord_data/A+B_train_val_test/Fossil+Leaves/test-00004-of-00010.tfrecord\n"
     ]
    },
    {
     "name": "stderr",
     "output_type": "stream",
     "text": [
      "100%|██████████| 1620/1620 [00:05<00:00, 304.11it/s]\n"
     ]
    },
    {
     "name": "stdout",
     "output_type": "stream",
     "text": [
      "Logged TFRecord\n",
      "Finished /media/data/jacob/Fossil_Project/data/tfrecord_data/A+B_train_val_test/Fossil+Leaves/test-00004-of-00010.tfrecord\n",
      "Wrote 1620 in 5.33\n"
     ]
    },
    {
     "name": "stderr",
     "output_type": "stream",
     "text": [
      "  2%|▏         | 34/1620 [00:00<00:04, 333.33it/s]"
     ]
    },
    {
     "name": "stdout",
     "output_type": "stream",
     "text": [
      "Writing /media/data/jacob/Fossil_Project/data/tfrecord_data/A+B_train_val_test/Fossil+Leaves/test-00005-of-00010.tfrecord\n"
     ]
    },
    {
     "name": "stderr",
     "output_type": "stream",
     "text": [
      "100%|██████████| 1620/1620 [00:05<00:00, 310.39it/s]\n"
     ]
    },
    {
     "name": "stdout",
     "output_type": "stream",
     "text": [
      "Logged TFRecord\n",
      "Finished /media/data/jacob/Fossil_Project/data/tfrecord_data/A+B_train_val_test/Fossil+Leaves/test-00005-of-00010.tfrecord\n",
      "Wrote 1620 in 5.22\n"
     ]
    },
    {
     "name": "stderr",
     "output_type": "stream",
     "text": [
      "  2%|▏         | 33/1620 [00:00<00:04, 323.82it/s]"
     ]
    },
    {
     "name": "stdout",
     "output_type": "stream",
     "text": [
      "Writing /media/data/jacob/Fossil_Project/data/tfrecord_data/A+B_train_val_test/Fossil+Leaves/test-00006-of-00010.tfrecord\n"
     ]
    },
    {
     "name": "stderr",
     "output_type": "stream",
     "text": [
      "100%|██████████| 1620/1620 [00:05<00:00, 306.48it/s]\n"
     ]
    },
    {
     "name": "stdout",
     "output_type": "stream",
     "text": [
      "Logged TFRecord\n",
      "Finished /media/data/jacob/Fossil_Project/data/tfrecord_data/A+B_train_val_test/Fossil+Leaves/test-00006-of-00010.tfrecord\n",
      "Wrote 1620 in 5.30\n"
     ]
    },
    {
     "name": "stderr",
     "output_type": "stream",
     "text": [
      "  2%|▏         | 33/1620 [00:00<00:04, 323.79it/s]"
     ]
    },
    {
     "name": "stdout",
     "output_type": "stream",
     "text": [
      "Writing /media/data/jacob/Fossil_Project/data/tfrecord_data/A+B_train_val_test/Fossil+Leaves/test-00007-of-00010.tfrecord\n"
     ]
    },
    {
     "name": "stderr",
     "output_type": "stream",
     "text": [
      "100%|██████████| 1620/1620 [00:05<00:00, 303.56it/s]\n"
     ]
    },
    {
     "name": "stdout",
     "output_type": "stream",
     "text": [
      "Logged TFRecord\n",
      "Finished /media/data/jacob/Fossil_Project/data/tfrecord_data/A+B_train_val_test/Fossil+Leaves/test-00007-of-00010.tfrecord\n",
      "Wrote 1620 in 5.34\n"
     ]
    },
    {
     "name": "stderr",
     "output_type": "stream",
     "text": [
      "  2%|▏         | 32/1620 [00:00<00:05, 316.48it/s]"
     ]
    },
    {
     "name": "stdout",
     "output_type": "stream",
     "text": [
      "Writing /media/data/jacob/Fossil_Project/data/tfrecord_data/A+B_train_val_test/Fossil+Leaves/test-00008-of-00010.tfrecord\n"
     ]
    },
    {
     "name": "stderr",
     "output_type": "stream",
     "text": [
      "100%|██████████| 1620/1620 [00:05<00:00, 299.10it/s]\n"
     ]
    },
    {
     "name": "stdout",
     "output_type": "stream",
     "text": [
      "Logged TFRecord\n",
      "Finished /media/data/jacob/Fossil_Project/data/tfrecord_data/A+B_train_val_test/Fossil+Leaves/test-00008-of-00010.tfrecord\n",
      "Wrote 1620 in 5.42\n"
     ]
    },
    {
     "name": "stderr",
     "output_type": "stream",
     "text": [
      "  2%|▏         | 33/1620 [00:00<00:04, 328.94it/s]"
     ]
    },
    {
     "name": "stdout",
     "output_type": "stream",
     "text": [
      "Writing /media/data/jacob/Fossil_Project/data/tfrecord_data/A+B_train_val_test/Fossil+Leaves/test-00009-of-00010.tfrecord\n"
     ]
    },
    {
     "name": "stderr",
     "output_type": "stream",
     "text": [
      "100%|██████████| 1620/1620 [00:05<00:00, 303.63it/s]\n",
      "100%|██████████| 5/5 [00:00<00:00, 314.40it/s]"
     ]
    },
    {
     "name": "stdout",
     "output_type": "stream",
     "text": [
      "Logged TFRecord\n",
      "Finished /media/data/jacob/Fossil_Project/data/tfrecord_data/A+B_train_val_test/Fossil+Leaves/test-00009-of-00010.tfrecord\n",
      "Wrote 1620 in 5.34\n",
      "Writing /media/data/jacob/Fossil_Project/data/tfrecord_data/A+B_train_val_test/Fossil+Leaves/test-00010-of-00010.tfrecord\n",
      "Logged TFRecord\n",
      "Finished /media/data/jacob/Fossil_Project/data/tfrecord_data/A+B_train_val_test/Fossil+Leaves/test-00010-of-00010.tfrecord\n",
      "Wrote 5 in 0.02\n",
      "Fossil+Leaves test took 1578.72 sec to collect/convert to TFRecords\n",
      "Full experiment took a total of 4817.970103263855\n"
     ]
    },
    {
     "name": "stderr",
     "output_type": "stream",
     "text": [
      "\n"
     ]
    }
   ],
   "source": [
    "data_src_db = r'/home/jacob/projects/wilf_data_updates/leavesdb.db'\n",
    "include_runs = ['2100','2200']\n",
    "\n",
    "start = time.time()\n",
    "\n",
    "datasets = {\n",
    "        'PNAS': pnas_dataset.PNASDataset(src_db=data_src_db),\n",
    "        'Leaves': leaves_dataset.LeavesDataset(src_db=data_src_db),\n",
    "        'Fossil': fossil_dataset.FossilDataset(src_db=data_src_db)\n",
    "        }\n",
    "\n",
    "\n",
    "logger = stuf({})\n",
    "for i, run in experiment_view.iterrows():\n",
    "#     break\n",
    "    \n",
    "\n",
    "    run_config = stuf(run.to_dict())\n",
    "\n",
    "    if include_runs != ['all'] and (run_config['run_id'] not in include_runs):\n",
    "        print(f\"SKIPPING run with run_id={run_config['run_id']}\")\n",
    "        continue\n",
    "\n",
    "    print('BEGINNING ', run)\n",
    "    config = BaseConfig().parse(namespace=run_config)\n",
    "    data_config_AB = config.data_config.dataset_AB\n",
    "    log_name = data_config_AB.name\n",
    "    logger[log_name] = stuf({})\n",
    "\n",
    "    tfrecords_table = TFRecordsTable(db_path=config.user_config.experiments_db)\n",
    "    num_shards = data_config_AB.num_shards\n",
    "    resolution = data_config_AB.resolution\n",
    "\n",
    "    names = config.datasets\n",
    "\n",
    "\n",
    "    data_A = datasets[names[0]]\n",
    "    data_B = datasets[names[1]]\n",
    "\n",
    "    data_AB = data_A + data_B\n",
    "\n",
    "    print('A:',data_A)\n",
    "    print('B:',data_B)\n",
    "    print('A+B:',data_AB)\n",
    "\n",
    "    encoder = base_dataset.LabelEncoder(data_AB.data.family)\n",
    "    ensure_dir_exists(data_config_AB.csv_dir)\n",
    "    num_classes = data_config_AB.num_classes = encoder.num_classes\n",
    "\n",
    "    processed = base_dataset.preprocess_data(data_AB, encoder, data_config_AB)\n",
    "\n",
    "    print('A+B:',data_AB)\n",
    "\n",
    "    for subset in processed.keys():\n",
    "        Item = partial(TFRecordItem,**{\n",
    "                            'run_id':run_config['run_id'],\n",
    "                            'experiment_type':run_config['experiment_type'],\n",
    "                            'file_group':subset,\n",
    "                            'dataset_stage':'dataset_A+dataset_B',\n",
    "                            'dataset_name':data_config_AB.name,\n",
    "                            'resolution':resolution,\n",
    "                            'num_channels':3,\n",
    "                            'num_classes':num_classes,\n",
    "                            'num_shards':num_shards\n",
    "                            })\n",
    "\n",
    "        random.shuffle(processed[subset])\n",
    "\n",
    "        x, y = [list(i) for i in unzip(processed[subset])]\n",
    "        save_csv_data(x, y, filepath = data_config_AB.csv_data[subset])\n",
    "        encoder.save_config(data_config_AB.label_dir)\n",
    "\n",
    "        logger[log_name][subset] = stuf({'start':time.time()})\n",
    "        file_log = save_tfrecords(data=processed[subset],\n",
    "                       output_dir=data_config_AB.tfrecord_dir,\n",
    "                       file_prefix=subset,\n",
    "                       target_size=(resolution, resolution),\n",
    "                       num_channels=3,\n",
    "                       num_classes=encoder.num_classes,\n",
    "                       num_shards=num_shards,\n",
    "                       TFRecordItem_factory=Item,\n",
    "                       tfrecords_table=tfrecords_table,\n",
    "                       verbose=True)\n",
    "\n",
    "        logger[log_name][subset].end = time.time()\n",
    "        logger[log_name][subset].total = logger[log_name][subset].end - logger[log_name][subset].start\n",
    "        print(log_name, subset, f'took {logger[log_name][subset].total:.2f} sec to collect/convert to TFRecords')\n",
    "    print(f'Full experiment took a total of {time.time()-start}')\n"
   ]
  },
  {
   "cell_type": "code",
   "execution_count": 1,
   "metadata": {},
   "outputs": [
    {
     "name": "stdout",
     "output_type": "stream",
     "text": [
      "os.environ[\"CUDA_VISIBLE_DEVICES\"] :  7\n",
      "OpenCV is built with OpenMP support. This usually results in poor performance. For details, see https://github.com/tensorpack/benchmarks/blob/master/ImageNet/benchmark-opencv-resize.py\n",
      "\n",
      "WARNING:tensorflow:From /home/jacob/projects/pyleaves_git_correction/pyleaves/pyleaves/leavesdb/tf_utils/tf_utils.py:27: The name tf.set_random_seed is deprecated. Please use tf.compat.v1.set_random_seed instead.\n",
      "\n",
      "Set seeds [PYTHONHASHSEED, random, np.random, tf.set_random_seed] = 12321\n",
      "WARNING:tensorflow:From /home/jacob/projects/pyleaves_git_correction/pyleaves/pyleaves/leavesdb/tf_utils/tf_utils.py:48: The name tf.ConfigProto is deprecated. Please use tf.compat.v1.ConfigProto instead.\n",
      "\n",
      "WARNING:tensorflow:From /home/jacob/projects/pyleaves_git_correction/pyleaves/pyleaves/leavesdb/tf_utils/tf_utils.py:52: The name tf.Session is deprecated. Please use tf.compat.v1.Session instead.\n",
      "\n",
      "WARNING:tensorflow:From /home/jacob/projects/pyleaves_git_correction/pyleaves/pyleaves/leavesdb/tf_utils/tf_utils.py:52: The name tf.get_default_graph is deprecated. Please use tf.compat.v1.get_default_graph instead.\n",
      "\n",
      "Device mapping:\n",
      "/job:localhost/replica:0/task:0/device:XLA_CPU:0 -> device: XLA_CPU device\n",
      "/job:localhost/replica:0/task:0/device:GPU:0 -> device: 0, name: TITAN X (Pascal), pci bus id: 0000:89:00.0, compute capability: 6.1\n",
      "/job:localhost/replica:0/task:0/device:XLA_GPU:0 -> device: XLA_GPU device\n",
      "\n",
      "WARNING:tensorflow:From /home/jacob/projects/pyleaves_git_correction/pyleaves/pyleaves/leavesdb/tf_utils/tf_utils.py:53: The name tf.keras.backend.set_session is deprecated. Please use tf.compat.v1.keras.backend.set_session instead.\n",
      "\n"
     ]
    }
   ],
   "source": [
    "#This is for scratch work developing the main training pipeline\n",
    "\n",
    "import json\n",
    "import matplotlib.pyplot as plt\n",
    "import numpy as np\n",
    "import pandas as pd\n",
    "\n",
    "from stuf import stuf\n",
    "import os\n",
    "\n",
    "gpu = 7\n",
    "seed = 12321\n",
    "os.environ[\"CUDA_VISIBLE_DEVICES\"] = str(gpu)\n",
    "print('os.environ[\"CUDA_VISIBLE_DEVICES\"] : ',os.environ[\"CUDA_VISIBLE_DEVICES\"])\n",
    "\n",
    "import tensorflow as tf\n",
    "tf.compat.v1.enable_eager_execution()\n",
    "\n",
    "\n",
    "from pyleaves.leavesdb.tf_utils.tf_utils import set_random_seed, reset_keras_session\n",
    "set_random_seed(seed)\n",
    "reset_keras_session()\n",
    "\n",
    "\n",
    "import pyleaves\n",
    "# from pyleaves import leavesdb\n",
    "from pyleaves.base.base_data_manager import DataManager\n",
    "from pyleaves.base.base_trainer import ModelBuilder, BaseTrainer\n",
    "from pyleaves.configs.config_v2 import BaseConfig\n",
    "from pyleaves.leavesdb import experiments_db, db_manager\n",
    "from pyleaves.leavesdb.experiments_db import DataBase, Table, TFRecordsTable, EXPERIMENTS_SCHEMA, TFRecordItem, EXPERIMENTS_DB\n",
    "from pyleaves.leavesdb.experiments_db import get_db_table, select_by_col, select_by_multicol\n",
    "from pyleaves.leavesdb.tf_utils.create_tfrecords import save_tfrecords\n",
    "from pyleaves.datasets import leaves_dataset, fossil_dataset, pnas_dataset, base_dataset\n",
    "from pyleaves.utils.create_experiments import create_experiment__A_train_val_test"
   ]
  },
  {
   "cell_type": "code",
   "execution_count": null,
   "metadata": {
    "scrolled": true
   },
   "outputs": [
    {
     "name": "stdout",
     "output_type": "stream",
     "text": [
      "SKIPPING run with run_id=1000\n",
      "SKIPPING run with run_id=1100\n",
      "BEGINNING  run_id                         1200\n",
      "experiment_type    A_train_val_test\n",
      "dataset_A                    Leaves\n",
      "dataset_B                      None\n",
      "Name: 2, dtype: object\n",
      "train 0.4 (0, 10510)\n",
      "val 0.1 (10510, 13137)\n",
      "test 0.5 (13137, 26275)\n",
      "saved 10510 samples to /media/data/jacob/Fossil_Project/data/csv_data/A_train_val_test/Leaves/train_data.csv\n",
      "Starting to split train subset with 10510 total samples into 10 shards\n",
      "converting 10510 images to tfrecord\n",
      "self.num_shards 10\n"
     ]
    },
    {
     "name": "stderr",
     "output_type": "stream",
     "text": [
      "/media/data/conda/jacob/envs/pyleaves/lib/python3.7/site-packages/tensorflow_core/contrib/learn/python/learn/learn_io/generator_io.py:26: DeprecationWarning: Using or importing the ABCs from 'collections' instead of from 'collections.abc' is deprecated since Python 3.3,and in 3.9 it will stop working\n",
      "  from collections import Container\n",
      "  3%|▎         | 33/1051 [00:00<00:03, 321.66it/s]"
     ]
    },
    {
     "name": "stdout",
     "output_type": "stream",
     "text": [
      "Writing /media/data/jacob/Fossil_Project/data/tfrecord_data/A_train_val_test/Leaves/train-00000-of-00010.tfrecord\n"
     ]
    },
    {
     "name": "stderr",
     "output_type": "stream",
     "text": [
      "100%|██████████| 1051/1051 [00:03<00:00, 315.72it/s]\n"
     ]
    },
    {
     "name": "stdout",
     "output_type": "stream",
     "text": [
      "Logged TFRecord\n",
      "Finished /media/data/jacob/Fossil_Project/data/tfrecord_data/A_train_val_test/Leaves/train-00000-of-00010.tfrecord\n",
      "Wrote 1051 in 3.34\n"
     ]
    },
    {
     "name": "stderr",
     "output_type": "stream",
     "text": [
      "  3%|▎         | 32/1051 [00:00<00:03, 309.98it/s]"
     ]
    },
    {
     "name": "stdout",
     "output_type": "stream",
     "text": [
      "Writing /media/data/jacob/Fossil_Project/data/tfrecord_data/A_train_val_test/Leaves/train-00001-of-00010.tfrecord\n"
     ]
    },
    {
     "name": "stderr",
     "output_type": "stream",
     "text": [
      "100%|██████████| 1051/1051 [00:03<00:00, 325.00it/s]\n"
     ]
    },
    {
     "name": "stdout",
     "output_type": "stream",
     "text": [
      "Logged TFRecord\n",
      "Finished /media/data/jacob/Fossil_Project/data/tfrecord_data/A_train_val_test/Leaves/train-00001-of-00010.tfrecord\n",
      "Wrote 1051 in 3.24\n"
     ]
    },
    {
     "name": "stderr",
     "output_type": "stream",
     "text": [
      "  3%|▎         | 36/1051 [00:00<00:02, 353.22it/s]"
     ]
    },
    {
     "name": "stdout",
     "output_type": "stream",
     "text": [
      "Writing /media/data/jacob/Fossil_Project/data/tfrecord_data/A_train_val_test/Leaves/train-00002-of-00010.tfrecord\n"
     ]
    },
    {
     "name": "stderr",
     "output_type": "stream",
     "text": [
      "100%|██████████| 1051/1051 [00:03<00:00, 325.31it/s]\n"
     ]
    },
    {
     "name": "stdout",
     "output_type": "stream",
     "text": [
      "Logged TFRecord\n",
      "Finished /media/data/jacob/Fossil_Project/data/tfrecord_data/A_train_val_test/Leaves/train-00002-of-00010.tfrecord\n",
      "Wrote 1051 in 3.24\n"
     ]
    },
    {
     "name": "stderr",
     "output_type": "stream",
     "text": [
      "  3%|▎         | 28/1051 [00:00<00:03, 275.80it/s]"
     ]
    },
    {
     "name": "stdout",
     "output_type": "stream",
     "text": [
      "Writing /media/data/jacob/Fossil_Project/data/tfrecord_data/A_train_val_test/Leaves/train-00003-of-00010.tfrecord\n"
     ]
    },
    {
     "name": "stderr",
     "output_type": "stream",
     "text": [
      "100%|██████████| 1051/1051 [00:03<00:00, 320.35it/s]\n"
     ]
    },
    {
     "name": "stdout",
     "output_type": "stream",
     "text": [
      "Logged TFRecord\n",
      "Finished /media/data/jacob/Fossil_Project/data/tfrecord_data/A_train_val_test/Leaves/train-00003-of-00010.tfrecord\n",
      "Wrote 1051 in 3.29\n"
     ]
    },
    {
     "name": "stderr",
     "output_type": "stream",
     "text": [
      "  3%|▎         | 33/1051 [00:00<00:03, 326.63it/s]"
     ]
    },
    {
     "name": "stdout",
     "output_type": "stream",
     "text": [
      "Writing /media/data/jacob/Fossil_Project/data/tfrecord_data/A_train_val_test/Leaves/train-00004-of-00010.tfrecord\n"
     ]
    },
    {
     "name": "stderr",
     "output_type": "stream",
     "text": [
      "100%|██████████| 1051/1051 [00:03<00:00, 325.44it/s]\n"
     ]
    },
    {
     "name": "stdout",
     "output_type": "stream",
     "text": [
      "Logged TFRecord\n",
      "Finished /media/data/jacob/Fossil_Project/data/tfrecord_data/A_train_val_test/Leaves/train-00004-of-00010.tfrecord\n",
      "Wrote 1051 in 3.25\n"
     ]
    },
    {
     "name": "stderr",
     "output_type": "stream",
     "text": [
      "  3%|▎         | 34/1051 [00:00<00:03, 334.71it/s]"
     ]
    },
    {
     "name": "stdout",
     "output_type": "stream",
     "text": [
      "Writing /media/data/jacob/Fossil_Project/data/tfrecord_data/A_train_val_test/Leaves/train-00005-of-00010.tfrecord\n"
     ]
    },
    {
     "name": "stderr",
     "output_type": "stream",
     "text": [
      "100%|██████████| 1051/1051 [00:03<00:00, 320.29it/s]\n"
     ]
    },
    {
     "name": "stdout",
     "output_type": "stream",
     "text": [
      "Logged TFRecord\n",
      "Finished /media/data/jacob/Fossil_Project/data/tfrecord_data/A_train_val_test/Leaves/train-00005-of-00010.tfrecord\n",
      "Wrote 1051 in 3.29\n"
     ]
    },
    {
     "name": "stderr",
     "output_type": "stream",
     "text": [
      "  3%|▎         | 29/1051 [00:00<00:03, 287.43it/s]"
     ]
    },
    {
     "name": "stdout",
     "output_type": "stream",
     "text": [
      "Writing /media/data/jacob/Fossil_Project/data/tfrecord_data/A_train_val_test/Leaves/train-00006-of-00010.tfrecord\n"
     ]
    },
    {
     "name": "stderr",
     "output_type": "stream",
     "text": [
      "100%|██████████| 1051/1051 [00:03<00:00, 323.86it/s]\n"
     ]
    },
    {
     "name": "stdout",
     "output_type": "stream",
     "text": [
      "Logged TFRecord\n",
      "Finished /media/data/jacob/Fossil_Project/data/tfrecord_data/A_train_val_test/Leaves/train-00006-of-00010.tfrecord\n",
      "Wrote 1051 in 3.25\n"
     ]
    },
    {
     "name": "stderr",
     "output_type": "stream",
     "text": [
      "  3%|▎         | 34/1051 [00:00<00:03, 332.56it/s]"
     ]
    },
    {
     "name": "stdout",
     "output_type": "stream",
     "text": [
      "Writing /media/data/jacob/Fossil_Project/data/tfrecord_data/A_train_val_test/Leaves/train-00007-of-00010.tfrecord\n"
     ]
    },
    {
     "name": "stderr",
     "output_type": "stream",
     "text": [
      "100%|██████████| 1051/1051 [00:03<00:00, 322.80it/s]\n"
     ]
    },
    {
     "name": "stdout",
     "output_type": "stream",
     "text": [
      "Logged TFRecord\n",
      "Finished /media/data/jacob/Fossil_Project/data/tfrecord_data/A_train_val_test/Leaves/train-00007-of-00010.tfrecord\n",
      "Wrote 1051 in 3.26\n"
     ]
    },
    {
     "name": "stderr",
     "output_type": "stream",
     "text": [
      "  3%|▎         | 28/1051 [00:00<00:03, 278.39it/s]"
     ]
    },
    {
     "name": "stdout",
     "output_type": "stream",
     "text": [
      "Writing /media/data/jacob/Fossil_Project/data/tfrecord_data/A_train_val_test/Leaves/train-00008-of-00010.tfrecord\n"
     ]
    },
    {
     "name": "stderr",
     "output_type": "stream",
     "text": [
      "100%|██████████| 1051/1051 [00:03<00:00, 322.40it/s]\n"
     ]
    },
    {
     "name": "stdout",
     "output_type": "stream",
     "text": [
      "Logged TFRecord\n",
      "Finished /media/data/jacob/Fossil_Project/data/tfrecord_data/A_train_val_test/Leaves/train-00008-of-00010.tfrecord\n",
      "Wrote 1051 in 3.27\n"
     ]
    },
    {
     "name": "stderr",
     "output_type": "stream",
     "text": [
      "  3%|▎         | 35/1051 [00:00<00:02, 346.61it/s]"
     ]
    },
    {
     "name": "stdout",
     "output_type": "stream",
     "text": [
      "Writing /media/data/jacob/Fossil_Project/data/tfrecord_data/A_train_val_test/Leaves/train-00009-of-00010.tfrecord\n"
     ]
    },
    {
     "name": "stderr",
     "output_type": "stream",
     "text": [
      "100%|██████████| 1051/1051 [00:03<00:00, 327.16it/s]\n"
     ]
    },
    {
     "name": "stdout",
     "output_type": "stream",
     "text": [
      "Logged TFRecord\n",
      "Finished /media/data/jacob/Fossil_Project/data/tfrecord_data/A_train_val_test/Leaves/train-00009-of-00010.tfrecord\n",
      "Wrote 1051 in 3.22\n",
      "Leaves train took 929.61 sec to collect/convert to TFRecords\n",
      "saved 2627 samples to /media/data/jacob/Fossil_Project/data/csv_data/A_train_val_test/Leaves/val_data.csv\n",
      "Starting to split val subset with 2627 total samples into 10 shards\n",
      "converting 2627 images to tfrecord\n",
      "self.num_shards 10\n"
     ]
    },
    {
     "name": "stderr",
     "output_type": "stream",
     "text": [
      " 13%|█▎        | 33/262 [00:00<00:00, 328.78it/s]"
     ]
    },
    {
     "name": "stdout",
     "output_type": "stream",
     "text": [
      "Writing /media/data/jacob/Fossil_Project/data/tfrecord_data/A_train_val_test/Leaves/val-00000-of-00010.tfrecord\n"
     ]
    },
    {
     "name": "stderr",
     "output_type": "stream",
     "text": [
      "100%|██████████| 262/262 [00:00<00:00, 325.66it/s]\n"
     ]
    },
    {
     "name": "stdout",
     "output_type": "stream",
     "text": [
      "Logged TFRecord\n",
      "Finished /media/data/jacob/Fossil_Project/data/tfrecord_data/A_train_val_test/Leaves/val-00000-of-00010.tfrecord\n",
      "Wrote 262 in 0.81\n"
     ]
    },
    {
     "name": "stderr",
     "output_type": "stream",
     "text": [
      " 13%|█▎        | 34/262 [00:00<00:00, 333.78it/s]"
     ]
    },
    {
     "name": "stdout",
     "output_type": "stream",
     "text": [
      "Writing /media/data/jacob/Fossil_Project/data/tfrecord_data/A_train_val_test/Leaves/val-00001-of-00010.tfrecord\n"
     ]
    },
    {
     "name": "stderr",
     "output_type": "stream",
     "text": [
      "100%|██████████| 262/262 [00:00<00:00, 323.16it/s]\n"
     ]
    },
    {
     "name": "stdout",
     "output_type": "stream",
     "text": [
      "Logged TFRecord\n",
      "Finished /media/data/jacob/Fossil_Project/data/tfrecord_data/A_train_val_test/Leaves/val-00001-of-00010.tfrecord\n",
      "Wrote 262 in 0.82\n"
     ]
    },
    {
     "name": "stderr",
     "output_type": "stream",
     "text": [
      " 12%|█▏        | 32/262 [00:00<00:00, 318.45it/s]"
     ]
    },
    {
     "name": "stdout",
     "output_type": "stream",
     "text": [
      "Writing /media/data/jacob/Fossil_Project/data/tfrecord_data/A_train_val_test/Leaves/val-00002-of-00010.tfrecord\n"
     ]
    },
    {
     "name": "stderr",
     "output_type": "stream",
     "text": [
      "100%|██████████| 262/262 [00:00<00:00, 325.99it/s]\n"
     ]
    },
    {
     "name": "stdout",
     "output_type": "stream",
     "text": [
      "Logged TFRecord\n",
      "Finished /media/data/jacob/Fossil_Project/data/tfrecord_data/A_train_val_test/Leaves/val-00002-of-00010.tfrecord\n",
      "Wrote 262 in 0.82\n"
     ]
    },
    {
     "name": "stderr",
     "output_type": "stream",
     "text": [
      " 12%|█▏        | 31/262 [00:00<00:00, 306.04it/s]"
     ]
    },
    {
     "name": "stdout",
     "output_type": "stream",
     "text": [
      "Writing /media/data/jacob/Fossil_Project/data/tfrecord_data/A_train_val_test/Leaves/val-00003-of-00010.tfrecord\n"
     ]
    },
    {
     "name": "stderr",
     "output_type": "stream",
     "text": [
      "100%|██████████| 262/262 [00:00<00:00, 321.32it/s]\n"
     ]
    },
    {
     "name": "stdout",
     "output_type": "stream",
     "text": [
      "Logged TFRecord\n",
      "Finished /media/data/jacob/Fossil_Project/data/tfrecord_data/A_train_val_test/Leaves/val-00003-of-00010.tfrecord\n",
      "Wrote 262 in 0.82\n"
     ]
    },
    {
     "name": "stderr",
     "output_type": "stream",
     "text": [
      " 11%|█         | 29/262 [00:00<00:00, 285.28it/s]"
     ]
    },
    {
     "name": "stdout",
     "output_type": "stream",
     "text": [
      "Writing /media/data/jacob/Fossil_Project/data/tfrecord_data/A_train_val_test/Leaves/val-00004-of-00010.tfrecord\n"
     ]
    },
    {
     "name": "stderr",
     "output_type": "stream",
     "text": [
      "100%|██████████| 262/262 [00:00<00:00, 322.83it/s]\n"
     ]
    },
    {
     "name": "stdout",
     "output_type": "stream",
     "text": [
      "Logged TFRecord\n",
      "Finished /media/data/jacob/Fossil_Project/data/tfrecord_data/A_train_val_test/Leaves/val-00004-of-00010.tfrecord\n",
      "Wrote 262 in 0.82\n"
     ]
    },
    {
     "name": "stderr",
     "output_type": "stream",
     "text": [
      " 13%|█▎        | 34/262 [00:00<00:00, 331.88it/s]"
     ]
    },
    {
     "name": "stdout",
     "output_type": "stream",
     "text": [
      "Writing /media/data/jacob/Fossil_Project/data/tfrecord_data/A_train_val_test/Leaves/val-00005-of-00010.tfrecord\n"
     ]
    },
    {
     "name": "stderr",
     "output_type": "stream",
     "text": [
      "100%|██████████| 262/262 [00:00<00:00, 319.97it/s]\n"
     ]
    },
    {
     "name": "stdout",
     "output_type": "stream",
     "text": [
      "Logged TFRecord\n",
      "Finished /media/data/jacob/Fossil_Project/data/tfrecord_data/A_train_val_test/Leaves/val-00005-of-00010.tfrecord\n",
      "Wrote 262 in 0.82\n"
     ]
    },
    {
     "name": "stderr",
     "output_type": "stream",
     "text": [
      " 13%|█▎        | 33/262 [00:00<00:00, 328.32it/s]"
     ]
    },
    {
     "name": "stdout",
     "output_type": "stream",
     "text": [
      "Writing /media/data/jacob/Fossil_Project/data/tfrecord_data/A_train_val_test/Leaves/val-00006-of-00010.tfrecord\n"
     ]
    },
    {
     "name": "stderr",
     "output_type": "stream",
     "text": [
      "100%|██████████| 262/262 [00:00<00:00, 328.45it/s]\n"
     ]
    },
    {
     "name": "stdout",
     "output_type": "stream",
     "text": [
      "Logged TFRecord\n",
      "Finished /media/data/jacob/Fossil_Project/data/tfrecord_data/A_train_val_test/Leaves/val-00006-of-00010.tfrecord\n",
      "Wrote 262 in 0.80\n"
     ]
    },
    {
     "name": "stderr",
     "output_type": "stream",
     "text": [
      " 12%|█▏        | 31/262 [00:00<00:00, 302.57it/s]"
     ]
    },
    {
     "name": "stdout",
     "output_type": "stream",
     "text": [
      "Writing /media/data/jacob/Fossil_Project/data/tfrecord_data/A_train_val_test/Leaves/val-00007-of-00010.tfrecord\n"
     ]
    },
    {
     "name": "stderr",
     "output_type": "stream",
     "text": [
      "100%|██████████| 262/262 [00:00<00:00, 324.38it/s]\n"
     ]
    },
    {
     "name": "stdout",
     "output_type": "stream",
     "text": [
      "Logged TFRecord\n",
      "Finished /media/data/jacob/Fossil_Project/data/tfrecord_data/A_train_val_test/Leaves/val-00007-of-00010.tfrecord\n",
      "Wrote 262 in 0.81\n"
     ]
    },
    {
     "name": "stderr",
     "output_type": "stream",
     "text": [
      " 13%|█▎        | 33/262 [00:00<00:00, 329.77it/s]"
     ]
    },
    {
     "name": "stdout",
     "output_type": "stream",
     "text": [
      "Writing /media/data/jacob/Fossil_Project/data/tfrecord_data/A_train_val_test/Leaves/val-00008-of-00010.tfrecord\n"
     ]
    },
    {
     "name": "stderr",
     "output_type": "stream",
     "text": [
      "100%|██████████| 262/262 [00:00<00:00, 325.77it/s]\n"
     ]
    },
    {
     "name": "stdout",
     "output_type": "stream",
     "text": [
      "Logged TFRecord\n",
      "Finished /media/data/jacob/Fossil_Project/data/tfrecord_data/A_train_val_test/Leaves/val-00008-of-00010.tfrecord\n",
      "Wrote 262 in 0.83\n"
     ]
    },
    {
     "name": "stderr",
     "output_type": "stream",
     "text": [
      " 12%|█▏        | 32/262 [00:00<00:00, 314.35it/s]"
     ]
    },
    {
     "name": "stdout",
     "output_type": "stream",
     "text": [
      "Writing /media/data/jacob/Fossil_Project/data/tfrecord_data/A_train_val_test/Leaves/val-00009-of-00010.tfrecord\n"
     ]
    },
    {
     "name": "stderr",
     "output_type": "stream",
     "text": [
      "100%|██████████| 262/262 [00:00<00:00, 325.45it/s]\n",
      "100%|██████████| 7/7 [00:00<00:00, 280.25it/s]\n"
     ]
    },
    {
     "name": "stdout",
     "output_type": "stream",
     "text": [
      "Logged TFRecord\n",
      "Finished /media/data/jacob/Fossil_Project/data/tfrecord_data/A_train_val_test/Leaves/val-00009-of-00010.tfrecord\n",
      "Wrote 262 in 0.84\n",
      "Writing /media/data/jacob/Fossil_Project/data/tfrecord_data/A_train_val_test/Leaves/val-00010-of-00010.tfrecord\n",
      "Logged TFRecord\n",
      "Finished /media/data/jacob/Fossil_Project/data/tfrecord_data/A_train_val_test/Leaves/val-00010-of-00010.tfrecord\n",
      "Wrote 7 in 0.03\n",
      "Leaves val took 241.08 sec to collect/convert to TFRecords\n",
      "saved 13138 samples to /media/data/jacob/Fossil_Project/data/csv_data/A_train_val_test/Leaves/test_data.csv\n",
      "Starting to split test subset with 13138 total samples into 10 shards\n",
      "converting 13138 images to tfrecord\n",
      "self.num_shards 10\n"
     ]
    },
    {
     "name": "stderr",
     "output_type": "stream",
     "text": [
      "  3%|▎         | 34/1313 [00:00<00:03, 333.09it/s]"
     ]
    },
    {
     "name": "stdout",
     "output_type": "stream",
     "text": [
      "Writing /media/data/jacob/Fossil_Project/data/tfrecord_data/A_train_val_test/Leaves/test-00000-of-00010.tfrecord\n"
     ]
    },
    {
     "name": "stderr",
     "output_type": "stream",
     "text": [
      "100%|██████████| 1313/1313 [00:04<00:00, 318.21it/s]\n"
     ]
    },
    {
     "name": "stdout",
     "output_type": "stream",
     "text": [
      "Logged TFRecord\n",
      "Finished /media/data/jacob/Fossil_Project/data/tfrecord_data/A_train_val_test/Leaves/test-00000-of-00010.tfrecord\n",
      "Wrote 1313 in 4.13\n"
     ]
    },
    {
     "name": "stderr",
     "output_type": "stream",
     "text": [
      "  3%|▎         | 34/1313 [00:00<00:03, 329.39it/s]"
     ]
    },
    {
     "name": "stdout",
     "output_type": "stream",
     "text": [
      "Writing /media/data/jacob/Fossil_Project/data/tfrecord_data/A_train_val_test/Leaves/test-00001-of-00010.tfrecord\n"
     ]
    },
    {
     "name": "stderr",
     "output_type": "stream",
     "text": [
      "100%|██████████| 1313/1313 [00:04<00:00, 321.14it/s]\n"
     ]
    },
    {
     "name": "stdout",
     "output_type": "stream",
     "text": [
      "Logged TFRecord\n",
      "Finished /media/data/jacob/Fossil_Project/data/tfrecord_data/A_train_val_test/Leaves/test-00001-of-00010.tfrecord\n",
      "Wrote 1313 in 4.09\n"
     ]
    },
    {
     "name": "stderr",
     "output_type": "stream",
     "text": [
      "  2%|▏         | 29/1313 [00:00<00:04, 283.87it/s]"
     ]
    },
    {
     "name": "stdout",
     "output_type": "stream",
     "text": [
      "Writing /media/data/jacob/Fossil_Project/data/tfrecord_data/A_train_val_test/Leaves/test-00002-of-00010.tfrecord\n"
     ]
    },
    {
     "name": "stderr",
     "output_type": "stream",
     "text": [
      "100%|██████████| 1313/1313 [00:04<00:00, 319.84it/s]\n"
     ]
    },
    {
     "name": "stdout",
     "output_type": "stream",
     "text": [
      "Logged TFRecord\n",
      "Finished /media/data/jacob/Fossil_Project/data/tfrecord_data/A_train_val_test/Leaves/test-00002-of-00010.tfrecord\n",
      "Wrote 1313 in 4.11\n"
     ]
    },
    {
     "name": "stderr",
     "output_type": "stream",
     "text": [
      "  3%|▎         | 33/1313 [00:00<00:03, 329.99it/s]"
     ]
    },
    {
     "name": "stdout",
     "output_type": "stream",
     "text": [
      "Writing /media/data/jacob/Fossil_Project/data/tfrecord_data/A_train_val_test/Leaves/test-00003-of-00010.tfrecord\n"
     ]
    },
    {
     "name": "stderr",
     "output_type": "stream",
     "text": [
      "100%|██████████| 1313/1313 [00:04<00:00, 323.63it/s]\n"
     ]
    },
    {
     "name": "stdout",
     "output_type": "stream",
     "text": [
      "Logged TFRecord\n",
      "Finished /media/data/jacob/Fossil_Project/data/tfrecord_data/A_train_val_test/Leaves/test-00003-of-00010.tfrecord\n",
      "Wrote 1313 in 4.06\n"
     ]
    }
   ],
   "source": [
    "data_src_db = r'/home/jacob/projects/wilf_data_updates/leavesdb.db'\n",
    "\n",
    "\n",
    "# experiments_db.create_db()\n",
    "\n",
    "tables = experiments_db.get_db_contents()\n",
    "\n",
    "create_experiment__A_train_val_test(src_db=data_src_db, include_runs=['1200'])\n",
    "get_db_table(tablename='tfrecords')"
   ]
  },
  {
   "cell_type": "code",
   "execution_count": null,
   "metadata": {},
   "outputs": [],
   "source": [
    "tables = experiments_db.get_db_contents()\n",
    "experiment_view = select_by_col(table=tables['runs'],column='experiment_type',value='A+B_train_val_test')"
   ]
  },
  {
   "cell_type": "code",
   "execution_count": 22,
   "metadata": {},
   "outputs": [],
   "source": [
    "# db_manager.analyze_db_contents(data_src_db)\n",
    "data_src_db = r'/home/jacob/projects/wilf_data_updates/leavesdb.db'\n",
    "src_db = data_src_db\n",
    "from pyleaves.datasets import leaves_dataset, fossil_dataset, pnas_dataset, base_dataset\n",
    "\n",
    "datasets = {\n",
    "            'PNAS': pnas_dataset.PNASDataset(src_db=src_db),\n",
    "            'Leaves': leaves_dataset.LeavesDataset(src_db=src_db),\n",
    "            'Fossil': fossil_dataset.FossilDataset(src_db=src_db)\n",
    "            }"
   ]
  },
  {
   "cell_type": "code",
   "execution_count": 22,
   "metadata": {},
   "outputs": [],
   "source": [
    "# os.path.isfile('/media/data_cifs/jacob/Fossil_Project/opt_data/PNAS/Malvaceae/Malvaceae_Pseudobombax_argentinum_3662 {WolfeUSGS} [1.96x].jpg')\n",
    "# os.listdir('/media/data_cifs/jacob/Fossil_Project/opt_data/PNAS/Malvaceae/')\n",
    "\n",
    "# # type(datasets['Leaves'].data)\n",
    "# import pyleaves\n",
    "# from pyleaves import leavesdb\n",
    "# from pyleaves.datasets.base_dataset import BaseDataset\n",
    "\n",
    "# class LeavesDataset(BaseDataset):\n",
    "\n",
    "#     __version__ = '1.1'\n",
    "\n",
    "#     def __init__(self, src_db=pyleaves.DATABASE_PATH):\n",
    "#         super().__init__(name='Leaves', src_db=src_db)\n",
    "#         # super().__init__(name='Leaves2020', src_db=src_db)\n",
    "#         self._data = self.load_from_db()\n",
    "        \n",
    "# leaves_dataset.LeavesDataset"
   ]
  },
  {
   "cell_type": "code",
   "execution_count": 8,
   "metadata": {},
   "outputs": [
    {
     "name": "stdout",
     "output_type": "stream",
     "text": [
      "PNAS Index(['path', 'family'], dtype='object')\n",
      "Leaves Index(['path', 'family'], dtype='object')\n",
      "Fossil Index(['path', 'family'], dtype='object')\n"
     ]
    },
    {
     "data": {
      "text/plain": [
       "Fossil:\n",
       "    num_samples: 6122\n",
       "    num_classes: 27\n",
       "    class_count_threshold: 0\n",
       "        "
      ]
     },
     "execution_count": 8,
     "metadata": {},
     "output_type": "execute_result"
    }
   ],
   "source": [
    "for k,v in datasets.items():\n",
    "    print(k,v.data.columns)\n",
    "\n",
    "datasets['PNAS']\n",
    "datasets['Leaves']\n",
    "datasets['Fossil']"
   ]
  },
  {
   "cell_type": "code",
   "execution_count": 5,
   "metadata": {},
   "outputs": [
    {
     "data": {
      "image/png": "[encoded data removed]",
      "text/plain": [
       "<Figure size 432x288 with 4 Axes>"
      ]
     },
     "metadata": {
      "needs_background": "light"
     },
     "output_type": "display_data"
    }
   ],
   "source": [
    "import matplotlib.pyplot as plt\n",
    "\n",
    "\n",
    "fig, ax = plt.subplots(2,2)"
   ]
  },
  {
   "cell_type": "code",
   "execution_count": 10,
   "metadata": {
    "collapsed": true,
    "jupyter": {
     "outputs_hidden": true
    }
   },
   "outputs": [
    {
     "name": "stdout",
     "output_type": "stream",
     "text": [
      "Help on method savefig in module matplotlib.figure:\n",
      "\n",
      "savefig(fname, *, transparent=None, **kwargs) method of matplotlib.figure.Figure instance\n",
      "    Save the current figure.\n",
      "    \n",
      "    Call signature::\n",
      "    \n",
      "      savefig(fname, dpi=None, facecolor='w', edgecolor='w',\n",
      "              orientation='portrait', papertype=None, format=None,\n",
      "              transparent=False, bbox_inches=None, pad_inches=0.1,\n",
      "              frameon=None, metadata=None)\n",
      "    \n",
      "    The output formats available depend on the backend being used.\n",
      "    \n",
      "    Parameters\n",
      "    ----------\n",
      "    \n",
      "    fname : str or PathLike or file-like object\n",
      "        A path, or a Python file-like object, or\n",
      "        possibly some backend-dependent object such as\n",
      "        `matplotlib.backends.backend_pdf.PdfPages`.\n",
      "    \n",
      "        If *format* is not set, then the output format is inferred from\n",
      "        the extension of *fname*, if any, and from :rc:`savefig.format`\n",
      "        otherwise.  If *format* is set, it determines the output format.\n",
      "    \n",
      "        Hence, if *fname* is not a path or has no extension, remember to\n",
      "        specify *format* to ensure that the correct backend is used.\n",
      "    \n",
      "    Other Parameters\n",
      "    ----------------\n",
      "    \n",
      "    dpi : [ *None* | scalar > 0 | 'figure' ]\n",
      "        The resolution in dots per inch.  If *None*, defaults to\n",
      "        :rc:`savefig.dpi`.  If 'figure', uses the figure's dpi value.\n",
      "    \n",
      "    quality : [ *None* | 1 <= scalar <= 100 ]\n",
      "        The image quality, on a scale from 1 (worst) to 95 (best).\n",
      "        Applicable only if *format* is jpg or jpeg, ignored otherwise.\n",
      "        If *None*, defaults to :rc:`savefig.jpeg_quality` (95 by default).\n",
      "        Values above 95 should be avoided; 100 completely disables the\n",
      "        JPEG quantization stage.\n",
      "    \n",
      "    optimize : bool\n",
      "        If *True*, indicates that the JPEG encoder should make an extra\n",
      "        pass over the image in order to select optimal encoder settings.\n",
      "        Applicable only if *format* is jpg or jpeg, ignored otherwise.\n",
      "        Is *False* by default.\n",
      "    \n",
      "    progressive : bool\n",
      "        If *True*, indicates that this image should be stored as a\n",
      "        progressive JPEG file. Applicable only if *format* is jpg or\n",
      "        jpeg, ignored otherwise. Is *False* by default.\n",
      "    \n",
      "    facecolor : color spec or None, optional\n",
      "        The facecolor of the figure; if *None*, defaults to\n",
      "        :rc:`savefig.facecolor`.\n",
      "    \n",
      "    edgecolor : color spec or None, optional\n",
      "        The edgecolor of the figure; if *None*, defaults to\n",
      "        :rc:`savefig.edgecolor`\n",
      "    \n",
      "    orientation : {'landscape', 'portrait'}\n",
      "        Currently only supported by the postscript backend.\n",
      "    \n",
      "    papertype : str\n",
      "        One of 'letter', 'legal', 'executive', 'ledger', 'a0' through\n",
      "        'a10', 'b0' through 'b10'. Only supported for postscript\n",
      "        output.\n",
      "    \n",
      "    format : str\n",
      "        The file format, e.g. 'png', 'pdf', 'svg', ... The behavior when\n",
      "        this is unset is documented under *fname*.\n",
      "    \n",
      "    transparent : bool\n",
      "        If *True*, the axes patches will all be transparent; the\n",
      "        figure patch will also be transparent unless facecolor\n",
      "        and/or edgecolor are specified via kwargs.\n",
      "        This is useful, for example, for displaying\n",
      "        a plot on top of a colored background on a web page.  The\n",
      "        transparency of these patches will be restored to their\n",
      "        original values upon exit of this function.\n",
      "    \n",
      "    bbox_inches : str or `~matplotlib.transforms.Bbox`, optional\n",
      "        Bbox in inches. Only the given portion of the figure is\n",
      "        saved. If 'tight', try to figure out the tight bbox of\n",
      "        the figure. If None, use savefig.bbox\n",
      "    \n",
      "    pad_inches : scalar, optional\n",
      "        Amount of padding around the figure when bbox_inches is\n",
      "        'tight'. If None, use savefig.pad_inches\n",
      "    \n",
      "    bbox_extra_artists : list of `~matplotlib.artist.Artist`, optional\n",
      "        A list of extra artists that will be considered when the\n",
      "        tight bbox is calculated.\n",
      "    \n",
      "    metadata : dict, optional\n",
      "        Key/value pairs to store in the image metadata. The supported keys\n",
      "        and defaults depend on the image format and backend:\n",
      "    \n",
      "        - 'png' with Agg backend: See the parameter ``metadata`` of\n",
      "          `~.FigureCanvasAgg.print_png`.\n",
      "        - 'pdf' with pdf backend: See the parameter ``metadata`` of\n",
      "          `~.backend_pdf.PdfPages`.\n",
      "        - 'eps' and 'ps' with PS backend: Only 'Creator' is supported.\n",
      "    \n",
      "    pil_kwargs : dict, optional\n",
      "        Additional keyword arguments that are passed to `PIL.Image.save`\n",
      "        when saving the figure.  Only applicable for formats that are saved\n",
      "        using Pillow, i.e. JPEG, TIFF, and (if the keyword is set to a\n",
      "        non-None value) PNG.\n",
      "\n"
     ]
    }
   ],
   "source": [
    "help(fig.savefig)\n",
    "\n",
    "\n",
    "import io\n",
    "buffer = io.BytesIO()\n",
    "fig.savefig(buffer, format='png')\n",
    "buffer.seek(0)\n",
    "img = tf.image.decode_png(buffer.getvalue(), channels=4)\n",
    "img = tf.expand_dims(img, 0)"
   ]
  },
  {
   "cell_type": "code",
   "execution_count": null,
   "metadata": {},
   "outputs": [],
   "source": []
  }
 ],
 "metadata": {
  "kernelspec": {
   "display_name": "Python 3",
   "language": "python",
   "name": "python3"
  },
  "language_info": {
   "codemirror_mode": {
    "name": "ipython",
    "version": 3
   },
   "file_extension": ".py",
   "mimetype": "text/x-python",
   "name": "python",
   "nbconvert_exporter": "python",
   "pygments_lexer": "ipython3",
   "version": "3.7.6"
  }
 },
 "nbformat": 4,
 "nbformat_minor": 4
}
