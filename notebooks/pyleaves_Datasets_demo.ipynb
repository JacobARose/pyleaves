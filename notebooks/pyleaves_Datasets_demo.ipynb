{
 "cells": [
  {
   "cell_type": "code",
   "execution_count": 1,
   "metadata": {},
   "outputs": [
    {
     "name": "stdout",
     "output_type": "stream",
     "text": [
      "OpenCV is built with OpenMP support. This usually results in poor performance. For details, see https://github.com/tensorpack/benchmarks/blob/master/ImageNet/benchmark-opencv-resize.py\n",
      "\n"
     ]
    }
   ],
   "source": [
    "import os\n",
    "import dataset\n",
    "from stuf import stuf\n",
    "import pandas as pd\n",
    "from tabulate import tabulate\n",
    "\n",
    "from pyleaves import EXPERIMENTS_DB, RESOURCES_DIR\n",
    "from pyleaves.leavesdb import experiments_db\n",
    "from pyleaves.leavesdb.experiments_db import DataBase, Table, TFRecordsTable, EXPERIMENTS_SCHEMA, TFRecordItem\n",
    "\n",
    "experiments_db.create_db(db_path=EXPERIMENTS_DB, schema_path=EXPERIMENTS_SCHEMA)\n",
    "tables = experiments_db.get_db_contents(db_path=EXPERIMENTS_DB)\n",
    "\n",
    "# EXPERIMENTS_SCHEMA = os.path.join(RESOURCES_DIR,'experiments_schema.sql')"
   ]
  },
  {
   "cell_type": "markdown",
   "metadata": {},
   "source": [
    "# Create a reference to the DataBase class and connect"
   ]
  },
  {
   "cell_type": "code",
   "execution_count": 2,
   "metadata": {},
   "outputs": [],
   "source": [
    "database = DataBase()\n",
    "database.connect(db_path=EXPERIMENTS_DB)\n"
   ]
  },
  {
   "cell_type": "code",
   "execution_count": 3,
   "metadata": {},
   "outputs": [
    {
     "data": {
      "text/html": [
       "<table border=\"1\" class=\"dataframe\">\n",
       "  <thead>\n",
       "    <tr style=\"text-align: right;\">\n",
       "      <th></th>\n",
       "      <th>run_id</th>\n",
       "      <th>experiment_type</th>\n",
       "      <th>dataset_A</th>\n",
       "      <th>dataset_B</th>\n",
       "    </tr>\n",
       "  </thead>\n",
       "  <tbody>\n",
       "    <tr>\n",
       "      <th>0</th>\n",
       "      <td>1000</td>\n",
       "      <td>A_train_val_test</td>\n",
       "      <td>PNAS</td>\n",
       "      <td>None</td>\n",
       "    </tr>\n",
       "    <tr>\n",
       "      <th>1</th>\n",
       "      <td>1100</td>\n",
       "      <td>A_train_val_test</td>\n",
       "      <td>Fossil</td>\n",
       "      <td>None</td>\n",
       "    </tr>\n",
       "    <tr>\n",
       "      <th>2</th>\n",
       "      <td>1200</td>\n",
       "      <td>A_train_val_test</td>\n",
       "      <td>Leaves</td>\n",
       "      <td>None</td>\n",
       "    </tr>\n",
       "    <tr>\n",
       "      <th>3</th>\n",
       "      <td>2000</td>\n",
       "      <td>A+B_train_val_test</td>\n",
       "      <td>PNAS</td>\n",
       "      <td>Fossil</td>\n",
       "    </tr>\n",
       "    <tr>\n",
       "      <th>4</th>\n",
       "      <td>2100</td>\n",
       "      <td>A+B_train_val_test</td>\n",
       "      <td>PNAS</td>\n",
       "      <td>Leaves</td>\n",
       "    </tr>\n",
       "    <tr>\n",
       "      <th>5</th>\n",
       "      <td>2200</td>\n",
       "      <td>A+B_train_val_test</td>\n",
       "      <td>Fossil</td>\n",
       "      <td>Leaves</td>\n",
       "    </tr>\n",
       "    <tr>\n",
       "      <th>6</th>\n",
       "      <td>3000</td>\n",
       "      <td>A_train_val-B_train_val_test</td>\n",
       "      <td>PNAS</td>\n",
       "      <td>Fossil</td>\n",
       "    </tr>\n",
       "    <tr>\n",
       "      <th>7</th>\n",
       "      <td>3100</td>\n",
       "      <td>A_train_val-B_train_val_test</td>\n",
       "      <td>PNAS</td>\n",
       "      <td>Leaves</td>\n",
       "    </tr>\n",
       "    <tr>\n",
       "      <th>8</th>\n",
       "      <td>3200</td>\n",
       "      <td>A_train_val-B_train_val_test</td>\n",
       "      <td>Fossil</td>\n",
       "      <td>Leaves</td>\n",
       "    </tr>\n",
       "    <tr>\n",
       "      <th>9</th>\n",
       "      <td>4000</td>\n",
       "      <td>A+B_leave_one_out</td>\n",
       "      <td>PNAS</td>\n",
       "      <td>Fossil</td>\n",
       "    </tr>\n",
       "    <tr>\n",
       "      <th>10</th>\n",
       "      <td>4100</td>\n",
       "      <td>A+B_leave_one_out</td>\n",
       "      <td>Leaves</td>\n",
       "      <td>Fossil</td>\n",
       "    </tr>\n",
       "    <tr>\n",
       "      <th>11</th>\n",
       "      <td>4200</td>\n",
       "      <td>A+B_leave_one_out</td>\n",
       "      <td>Fossil</td>\n",
       "      <td>Leaves</td>\n",
       "    </tr>\n",
       "  </tbody>\n",
       "</table>"
      ],
      "text/plain": [
       "<IPython.core.display.HTML object>"
      ]
     },
     "metadata": {},
     "output_type": "display_data"
    },
    {
     "data": {
      "text/html": [
       "<table border=\"1\" class=\"dataframe\">\n",
       "  <thead>\n",
       "    <tr style=\"text-align: right;\">\n",
       "      <th></th>\n",
       "      <th>experiment_type</th>\n",
       "      <th>experiment_description</th>\n",
       "      <th>num_runs</th>\n",
       "    </tr>\n",
       "  </thead>\n",
       "  <tbody>\n",
       "    <tr>\n",
       "      <th>0</th>\n",
       "      <td>A_train_val_test</td>\n",
       "      <td>single-dataset_40-10-50 train-val-test</td>\n",
       "      <td>3</td>\n",
       "    </tr>\n",
       "    <tr>\n",
       "      <th>1</th>\n",
       "      <td>A+B_train_val_test</td>\n",
       "      <td>double-dataset_40-10-50 train-val-test</td>\n",
       "      <td>3</td>\n",
       "    </tr>\n",
       "    <tr>\n",
       "      <th>2</th>\n",
       "      <td>A_train_val-B_train_val_test</td>\n",
       "      <td>source2target-domain-transfer_50-50-train-test_40-10-50_train-val-test</td>\n",
       "      <td>3</td>\n",
       "    </tr>\n",
       "    <tr>\n",
       "      <th>3</th>\n",
       "      <td>A+B_leave_one_out</td>\n",
       "      <td>LeaveOneOut_double-dataset_50-50_train-val_LeftOutClass_test</td>\n",
       "      <td>3</td>\n",
       "    </tr>\n",
       "  </tbody>\n",
       "</table>"
      ],
      "text/plain": [
       "<IPython.core.display.HTML object>"
      ]
     },
     "metadata": {},
     "output_type": "display_data"
    },
    {
     "name": "stdout",
     "output_type": "stream",
     "text": [
      "Database connection = /home/jacob/projects/pyleaves/pyleaves/leavesdb/resources/experiments.db\n",
      "Table name = tfrecords,\n",
      "num_entries = 0\n",
      "columns:\n",
      "   file_path\n",
      "   experiment_type\n",
      "   run_id\n",
      "   num_shards\n",
      "   dataset_name\n",
      "   resolution\n",
      "   num_classes\n",
      "   subrun_id\n",
      "   num_channels\n",
      "   num_samples\n",
      "   file_group\n"
     ]
    }
   ],
   "source": [
    "runs_table = Table(db_path=EXPERIMENTS_DB, tablename='runs')\n",
    "runs_table.display_html()\n",
    "\n",
    "exp_table = Table(db_path=EXPERIMENTS_DB, tablename='experiments')\n",
    "exp_table.display_html()\n",
    "\n",
    "tfr_table = Table(db_path=EXPERIMENTS_DB, tablename='tfrecords')\n",
    "tfr_table.info()\n"
   ]
  },
  {
   "cell_type": "code",
   "execution_count": 4,
   "metadata": {},
   "outputs": [
    {
     "name": "stdout",
     "output_type": "stream",
     "text": [
      "Logged TFRecord\n",
      "Logged TFRecord\n",
      "Logged TFRecord\n",
      "Logged TFRecord\n",
      "Logged TFRecord\n",
      "Logged TFRecord\n",
      "Logged TFRecord\n"
     ]
    }
   ],
   "source": [
    "items = [TFRecordItem(**{\n",
    "            'file_path':f'/media/data/jacob/Fossil_Project/data/tfrecord_data/A_train_val_test/Leaves/train-{str(i).zfill(5)}-of-00010.tfrecord',\n",
    "            'file_group':'train',\n",
    "            'run_id':'1200',\n",
    "            'experiment_type':'A_train_val_test',\n",
    "            'dataset_name':'Leaves',\n",
    "            'resolution':224,\n",
    "            'num_channels':3,\n",
    "            'num_classes':190,\n",
    "            'num_shards':10\n",
    "            }) for i in range(11)]\n",
    "\n",
    "# print(item)\n",
    "table = TFRecordsTable(db_path=EXPERIMENTS_DB)\n",
    "for item in items[:-4]:\n",
    "    table.log_tfrecord(tfrecord_item=item)"
   ]
  },
  {
   "cell_type": "code",
   "execution_count": 5,
   "metadata": {},
   "outputs": [
    {
     "name": "stdout",
     "output_type": "stream",
     "text": [
      "[True, True, True, True, True, True, True, False, False, False, False]\n"
     ]
    }
   ],
   "source": [
    "print(table.check_if_logged(tfrecord_items=items))\n",
    "# table.num_entries"
   ]
  },
  {
   "cell_type": "code",
   "execution_count": 6,
   "metadata": {},
   "outputs": [
    {
     "data": {
      "text/html": [
       "<table border=\"1\" class=\"dataframe\">\n",
       "  <thead>\n",
       "    <tr style=\"text-align: right;\">\n",
       "      <th></th>\n",
       "      <th>file_path</th>\n",
       "      <th>file_group</th>\n",
       "      <th>subrun_id</th>\n",
       "      <th>run_id</th>\n",
       "      <th>experiment_type</th>\n",
       "      <th>dataset_name</th>\n",
       "      <th>resolution</th>\n",
       "      <th>num_channels</th>\n",
       "      <th>num_classes</th>\n",
       "      <th>num_shards</th>\n",
       "      <th>num_samples</th>\n",
       "    </tr>\n",
       "  </thead>\n",
       "  <tbody>\n",
       "    <tr>\n",
       "      <th>0</th>\n",
       "      <td>/media/data/jacob/Fossil_Project/data/tfrecord_data/A_train_val_test/Leaves/train-00000-of-00010.tfrecord</td>\n",
       "      <td>train</td>\n",
       "      <td>1200</td>\n",
       "      <td>1200</td>\n",
       "      <td>A_train_val_test</td>\n",
       "      <td>Leaves</td>\n",
       "      <td>224</td>\n",
       "      <td>3</td>\n",
       "      <td>190</td>\n",
       "      <td>10</td>\n",
       "      <td>0</td>\n",
       "    </tr>\n",
       "    <tr>\n",
       "      <th>1</th>\n",
       "      <td>/media/data/jacob/Fossil_Project/data/tfrecord_data/A_train_val_test/Leaves/train-00001-of-00010.tfrecord</td>\n",
       "      <td>train</td>\n",
       "      <td>1200</td>\n",
       "      <td>1200</td>\n",
       "      <td>A_train_val_test</td>\n",
       "      <td>Leaves</td>\n",
       "      <td>224</td>\n",
       "      <td>3</td>\n",
       "      <td>190</td>\n",
       "      <td>10</td>\n",
       "      <td>0</td>\n",
       "    </tr>\n",
       "    <tr>\n",
       "      <th>2</th>\n",
       "      <td>/media/data/jacob/Fossil_Project/data/tfrecord_data/A_train_val_test/Leaves/train-00002-of-00010.tfrecord</td>\n",
       "      <td>train</td>\n",
       "      <td>1200</td>\n",
       "      <td>1200</td>\n",
       "      <td>A_train_val_test</td>\n",
       "      <td>Leaves</td>\n",
       "      <td>224</td>\n",
       "      <td>3</td>\n",
       "      <td>190</td>\n",
       "      <td>10</td>\n",
       "      <td>0</td>\n",
       "    </tr>\n",
       "    <tr>\n",
       "      <th>3</th>\n",
       "      <td>/media/data/jacob/Fossil_Project/data/tfrecord_data/A_train_val_test/Leaves/train-00003-of-00010.tfrecord</td>\n",
       "      <td>train</td>\n",
       "      <td>1200</td>\n",
       "      <td>1200</td>\n",
       "      <td>A_train_val_test</td>\n",
       "      <td>Leaves</td>\n",
       "      <td>224</td>\n",
       "      <td>3</td>\n",
       "      <td>190</td>\n",
       "      <td>10</td>\n",
       "      <td>0</td>\n",
       "    </tr>\n",
       "    <tr>\n",
       "      <th>4</th>\n",
       "      <td>/media/data/jacob/Fossil_Project/data/tfrecord_data/A_train_val_test/Leaves/train-00004-of-00010.tfrecord</td>\n",
       "      <td>train</td>\n",
       "      <td>1200</td>\n",
       "      <td>1200</td>\n",
       "      <td>A_train_val_test</td>\n",
       "      <td>Leaves</td>\n",
       "      <td>224</td>\n",
       "      <td>3</td>\n",
       "      <td>190</td>\n",
       "      <td>10</td>\n",
       "      <td>0</td>\n",
       "    </tr>\n",
       "    <tr>\n",
       "      <th>5</th>\n",
       "      <td>/media/data/jacob/Fossil_Project/data/tfrecord_data/A_train_val_test/Leaves/train-00005-of-00010.tfrecord</td>\n",
       "      <td>train</td>\n",
       "      <td>1200</td>\n",
       "      <td>1200</td>\n",
       "      <td>A_train_val_test</td>\n",
       "      <td>Leaves</td>\n",
       "      <td>224</td>\n",
       "      <td>3</td>\n",
       "      <td>190</td>\n",
       "      <td>10</td>\n",
       "      <td>0</td>\n",
       "    </tr>\n",
       "    <tr>\n",
       "      <th>6</th>\n",
       "      <td>/media/data/jacob/Fossil_Project/data/tfrecord_data/A_train_val_test/Leaves/train-00006-of-00010.tfrecord</td>\n",
       "      <td>train</td>\n",
       "      <td>1200</td>\n",
       "      <td>1200</td>\n",
       "      <td>A_train_val_test</td>\n",
       "      <td>Leaves</td>\n",
       "      <td>224</td>\n",
       "      <td>3</td>\n",
       "      <td>190</td>\n",
       "      <td>10</td>\n",
       "      <td>0</td>\n",
       "    </tr>\n",
       "  </tbody>\n",
       "</table>"
      ],
      "text/plain": [
       "<IPython.core.display.HTML object>"
      ]
     },
     "metadata": {},
     "output_type": "display_data"
    }
   ],
   "source": [
    "table.display_html()"
   ]
  },
  {
   "cell_type": "code",
   "execution_count": null,
   "metadata": {},
   "outputs": [],
   "source": []
  }
 ],
 "metadata": {
  "kernelspec": {
   "display_name": "Python 3",
   "language": "python",
   "name": "python3"
  },
  "language_info": {
   "codemirror_mode": {
    "name": "ipython",
    "version": 3
   },
   "file_extension": ".py",
   "mimetype": "text/x-python",
   "name": "python",
   "nbconvert_exporter": "python",
   "pygments_lexer": "ipython3",
   "version": "3.7.7"
  }
 },
 "nbformat": 4,
 "nbformat_minor": 4
}
