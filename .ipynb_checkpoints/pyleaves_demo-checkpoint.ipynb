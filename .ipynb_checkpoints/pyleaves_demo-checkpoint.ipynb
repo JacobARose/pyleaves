{
 "cells": [
  {
   "cell_type": "markdown",
   "metadata": {},
   "source": [
    "First, navigate to your chosen working directory."
   ]
  },
  {
   "cell_type": "code",
   "execution_count": 1,
   "metadata": {},
   "outputs": [],
   "source": [
    "# %cd ~/..\n",
    "# %pwd\n",
    "\n",
    "%matplotlib inline"
   ]
  },
  {
   "cell_type": "code",
   "execution_count": 2,
   "metadata": {},
   "outputs": [
    {
     "name": "stdout",
     "output_type": "stream",
     "text": [
      "Device mapping:\n",
      "/job:localhost/replica:0/task:0/device:XLA_CPU:0 -> device: XLA_CPU device\n",
      "/job:localhost/replica:0/task:0/device:GPU:0 -> device: 0, name: TITAN X (Pascal), pci bus id: 0000:88:00.0, compute capability: 6.1\n",
      "/job:localhost/replica:0/task:0/device:XLA_GPU:0 -> device: XLA_GPU device\n",
      "\n",
      "['/device:GPU:0']\n",
      "OpenCV is built with OpenMP support. This usually results in poor performance. For details, see https://github.com/tensorpack/benchmarks/blob/master/ImageNet/benchmark-opencv-resize.py\n",
      "1 Physical GPUs, 1 Logical GPU\n"
     ]
    }
   ],
   "source": [
    "random_seed = 34\n",
    "import random\n",
    "random.seed(random_seed)\n",
    "import dataset\n",
    "\n",
    "import matplotlib.pyplot as plt\n",
    "\n",
    "import numpy as np\n",
    "import pandas as pd\n",
    "from sklearn.model_selection import train_test_split\n",
    "from stuf import stuf\n",
    "import time\n",
    "import os\n",
    "\n",
    "gpu=5\n",
    "os.environ[\"CUDA_DEVICE_ORDER\"]=\"PCI_BUS_ID\"\n",
    "os.environ[\"CUDA_VISIBLE_DEVICES\"]=\"6\"#str(gpu)\n",
    "\n",
    "from tensorflow.keras import backend as K\n",
    "import tensorflow as tf;\n",
    "tf.enable_eager_execution()\n",
    "\n",
    "tf_config=tf.ConfigProto(log_device_placement=True)\n",
    "tf_config.gpu_options.allocator_type = 'BFC'\n",
    "tf_config.gpu_options.allow_growth = True\n",
    "tf_config.allow_soft_placement = True\n",
    "sess = tf.Session(config=tf_config)\n",
    "K.set_session(sess)\n",
    "\n",
    "from tensorflow.python.client import device_lib\n",
    "\n",
    "def get_available_gpus():\n",
    "    local_device_protos = device_lib.list_local_devices()\n",
    "    return [x.name for x in local_device_protos if x.device_type == 'GPU']\n",
    "\n",
    "\n",
    "print(get_available_gpus())\n",
    "\n",
    "import pyleaves\n",
    "\n",
    "from pyleaves.analysis.img_utils import convert_to_png\n",
    "from pyleaves import leavesdb\n",
    "from pyleaves.data_pipeline.tensorpack_loaders import get_multiprocess_dataflow"
   ]
  },
  {
   "cell_type": "code",
   "execution_count": 3,
   "metadata": {},
   "outputs": [],
   "source": [
    "DATASET = \"Fossil\"\n",
    "# tf.test.gpu_device_name()\n",
    "# dir(tf.test)"
   ]
  },
  {
   "cell_type": "markdown",
   "metadata": {},
   "source": [
    "#### **1.** Initialize and connect to database in local filesystem"
   ]
  },
  {
   "cell_type": "code",
   "execution_count": 4,
   "metadata": {},
   "outputs": [
    {
     "name": "stdout",
     "output_type": "stream",
     "text": [
      "Proceeding with sql db at location /home/jacob/scripts/leavesdb.db\n",
      "/home/jacob/scripts/leavesdb.db\n"
     ]
    }
   ],
   "source": [
    "# local_db = os.path.join(os.getcwd(),'pyleaves','leavesdb','resources','leavesdb.db')\n",
    "\n",
    "local_db = leavesdb.init_local_db()\n",
    "\n",
    "print(local_db)\n",
    "\n",
    "db = dataset.connect(f'sqlite:///{local_db}', row_type=stuf)"
   ]
  },
  {
   "cell_type": "markdown",
   "metadata": {},
   "source": [
    "#### **2.** Print a summary of the database's contents"
   ]
  },
  {
   "cell_type": "code",
   "execution_count": 5,
   "metadata": {},
   "outputs": [
    {
     "name": "stdout",
     "output_type": "stream",
     "text": [
      "{'Database column keys': ['id', 'specie', 'genus', 'path', 'family', 'dataset'], 'distinct datasets': ['Fossil', 'Leaves', 'PNAS', 'plant_village'], 'Number of distinct families': [('Fossil', 27), ('Leaves', 376), ('PNAS', 19), ('plant_village', 3)], 'Number of rows in db': 119084}\n"
     ]
    }
   ],
   "source": [
    "db_summary = leavesdb.summarize_db(db)"
   ]
  },
  {
   "cell_type": "markdown",
   "metadata": {},
   "source": [
    "#### **3.** Select a subset of datasets\n",
    "##### Here we select the Fossil dataset"
   ]
  },
  {
   "cell_type": "code",
   "execution_count": 6,
   "metadata": {},
   "outputs": [],
   "source": [
    "# data = leavesdb.db_query.load_Fossil_data(db)\n",
    "\n",
    "# data = leavesdb.db_query.load_data(db, dataset=DATASET)\n",
    "\n",
    "# data = leavesdb.db_query.load_Leaves_data(db)\n",
    "\n",
    "\n",
    "data = leavesdb.db_query.load_all_data(db)\n",
    "\n",
    "data_by_dataset = data.groupby(by='dataset')\n",
    "data_by_dataset_dict = {k:v for k,v in data_by_dataset}\n"
   ]
  },
  {
   "cell_type": "code",
   "execution_count": 7,
   "metadata": {},
   "outputs": [
    {
     "name": "stdout",
     "output_type": "stream",
     "text": [
      "                                                path   family        dataset\n",
      "0  /media/data_cifs/jacob/data/plantvillage/Apple...  Rosacea  plant_village\n",
      "1  /media/data_cifs/jacob/data/plantvillage/Apple...  Rosacea  plant_village\n",
      "2  /media/data_cifs/jacob/data/plantvillage/Apple...  Rosacea  plant_village\n",
      "3  /media/data_cifs/jacob/data/plantvillage/Apple...  Rosacea  plant_village\n",
      "4  /media/data_cifs/jacob/data/plantvillage/Apple...  Rosacea  plant_village\n"
     ]
    }
   ],
   "source": [
    "print(data.head(5))"
   ]
  },
  {
   "cell_type": "code",
   "execution_count": null,
   "metadata": {
    "scrolled": true
   },
   "outputs": [
    {
     "name": "stdout",
     "output_type": "stream",
     "text": [
      "Starting  Fossil  with  6122  files\n",
      "Finished copying 6122 from Fossil in 2328.369 at a rate of 2.629 images/secnidentified/FLFO_011681.pnggnggerted image 5925 and saved at /media/data/jacob/Fossil_Project/Fossil/Unidentified/FLFO_011004.pngggies uncertain/FLFO_003514.pngineatum.pngmage 506 and saved at /media/data/jacob/Fossil_Project/Fossil/Cupressaceae/FLFO_002745A Sequoia affinis.pngConverted image 522 and saved at /media/data/jacob/Fossil_Project/Fossil/Cupressaceae/FLFO_002884B Sequoia affinis.png 169 and saved at /media/data/jacob/Fossil_Project/Fossil/Anacardiaceae/FLFO_002887A Rhus stellariaefolia.pngConverted image 188 and saved at /media/data/jacob/Fossil_Project/Fossil/Anacardiaceae/FLFO_003226 Rhus stellariaefolia.pngConverted image 191 and saved at /media/data/jacob/Fossil_Project/Fossil/Anacardiaceae/FLFO_003236B Rhus stellariaefolia.pngConverted image 222 and saved at /media/data/jacob/Fossil_Project/Fossil/Anacardiaceae/FLFO_010089 Rhus stellariaefolia.pngConverted image 286 and saved at /media/data/jacob/Fossil_Project/Fossil/Berberidaceae/FLFO_004936 Mahonia sp.pngConverted image 447 and saved at /media/data/jacob/Fossil_Project/Fossil/Cupressaceae/FLFO_010647B Chamaecyparis linguaefolia.pngConverted image 516 and saved at /media/data/jacob/Fossil_Project/Fossil/Cupressaceae/FLFO_002752 Sequoia affinis.pngConverted image 643 and saved at /media/data/jacob/Fossil_Project/Fossil/Dryopteridaceae/FLFO_002692B Dryopteris guyottii.pngConverted image 691 and saved at /media/data/jacob/Fossil_Project/Fossil/Fabaceae/FLFO_004477 Caesalpinites acuminatus.pngConverted image 726 and saved at /media/data/jacob/Fossil_Project/Fossil/Fabaceae/CU_0432cu Cercis parvifolia.pngConverted image 864 and saved at /media/data/jacob/Fossil_Project/Fossil/Fagaceae/CU_1047 Fagopsis longifolia.pngConverted image 905 and saved at /media/data/jacob/Fossil_Project/Fossil/Fagaceae/FLFO_003081A Fagopsis longifolia.pngConverted image 1151 and saved at /media/data/jacob/Fossil_Project/Fossil/Fagaceae/FLFO_003854A Fagopsis longifolia.pngConverted image 1166 and saved at /media/data/jacob/Fossil_Project/Fossil/Fagaceae/FLFO_003956B Fagopsis longifolia.pngConverted image 1220 and saved at /media/data/jacob/Fossil_Project/Fossil/Fagaceae/FLFO_006226B Fagopsis longifolia.pngConverted image 1294 and saved at /media/data/jacob/Fossil_Project/Fossil/Fagaceae/FLFO_010420B Fagopsis longifolia.pngConverted image 1574 and saved at /media/data/jacob/Fossil_Project/Fossil/Fagaceae/FLFO_009681 cf. Fagopsis.pngConverted image 1980 and saved at /media/data/jacob/Fossil_Project/Fossil/Rosaceae/FLFO_004763A Crataegus copeana.pngConverted image 2089 and saved at /media/data/jacob/Fossil_Project/Fossil/Rosaceae/FLFO_009156B Lomatia sp.pngConverted image 2200 and saved at /media/data/jacob/Fossil_Project/Fossil/Rosaceae/FLFO_010561B Vauquelinia coloradensis.pngConverted image 2198 and saved at /media/data/jacob/Fossil_Project/Fossil/Rosaceae/FLFO_010559 Vauquelinia coloradensis.pngConverted image 2286 and saved at /media/data/jacob/Fossil_Project/Fossil/Salicaceae/FLFO_004210 Populus crassa.pngConverted image 2343 and saved at /media/data/jacob/Fossil_Project/Fossil/Salicaceae/FLFO_006662A Salix ramaleyi.pngConverted image 2943 and saved at /media/data/jacob/Fossil_Project/Fossil/Ulmaceae/FLFO_003689 Cedrelospermum lineatum.pngConverted image 2988 and saved at /media/data/jacob/Fossil_Project/Fossil/Ulmaceae/FLFO_004613 Cedrelospermum lineatum.pngConverted image 3015 and saved at /media/data/jacob/Fossil_Project/Fossil/Ulmaceae/FLFO_004751 Cedrelospermum lineatum.pngConverted image 3342 and saved at /media/data/jacob/Fossil_Project/Fossil/Ulmaceae/FLFO_010491 Cedrelospermum lineatum.pngConverted image 3637 and saved at /media/data/jacob/Fossil_Project/Fossil/Ulmaceae/CU_0381 Ulmus tenuinervis.pngConverted image 3754 and saved at /media/data/jacob/Fossil_Project/Fossil/II. IDs, families uncertain/CU_0118cu2.pngConverted image 3874 and saved at /media/data/jacob/Fossil_Project/Fossil/II. IDs, families uncertain/CU_0231.pngConverted image 3907 and saved at /media/data/jacob/Fossil_Project/Fossil/II. IDs, families uncertain/FLFO_002682B.pngConverted image 4037 and saved at /media/data/jacob/Fossil_Project/Fossil/II. IDs, families uncertain/CU_0332cu-2.pngConverted image 4425 and saved at /media/data/jacob/Fossil_Project/Fossil/II. IDs, families uncertain/FLFO_004550B.pngConverted image 4666 and saved at /media/data/jacob/Fossil_Project/Fossil/Unidentified/CU_0546.pngConverted image 4710 and saved at /media/data/jacob/Fossil_Project/Fossil/Unidentified/FLFO_000896B.pngConverted image 4962 and saved at /media/data/jacob/Fossil_Project/Fossil/Unidentified/FLFO_003760B.pngConverted image 5265 and saved at /media/data/jacob/Fossil_Project/Fossil/Unidentified/FLFO_006424A.pngConverted image 5332 and saved at /media/data/jacob/Fossil_Project/Fossil/Unidentified/FLFO_006994.pngConverted image 5383 and saved at /media/data/jacob/Fossil_Project/Fossil/Unidentified/FLFO_008576B.pngConverted image 5601 and saved at /media/data/jacob/Fossil_Project/Fossil/Unidentified/FLFO_009594A.pngConverted image 5697 and saved at /media/data/jacob/Fossil_Project/Fossil/Unidentified/FLFO_010174B.pngConverted image 5921 and saved at /media/data/jacob/Fossil_Project/Fossil/Unidentified/FLFO_010995B.png\n",
      "Starting  Leaves  with  26982  files\n",
      "Converted image 9060 and saved at /media/data/jacob/Fossil_Project/Leaves/Proteaceae/Proteaceae_Stenocarpus_cunninghamii_(X90963).pnggAQ229860)_(X90644).pngpng image 8877 and saved at /media/data/jacob/Fossil_Project/Leaves/Passifloraceae/Passifloraceae_Adenia_heterophylla_ssp._heterophylla_(X00232).png/Fossil_Project/Leaves/Myrtaceae/Myrtaceae_Syzygium_papyraceum_(X90025).pngpngted image 287 and saved at /media/data/jacob/Fossil_Project/Leaves/Fagaceae/ax100.pngConverted image 332 and saved at /media/data/jacob/Fossil_Project/Leaves/Fagaceae/ax39.pngConverted image 340 and saved at /media/data/jacob/Fossil_Project/Leaves/Fagaceae/ax396.pngConverted image 422 and saved at /media/data/jacob/Fossil_Project/Leaves/Hippocastanaceae/ax141.pngConverted image 496 and saved at /media/data/jacob/Fossil_Project/Leaves/Magnoliaceae/ax659.pngConverted image 897 and saved at /media/data/jacob/Fossil_Project/Leaves/notcatalogued/ax929.pngConverted image 1044 and saved at /media/data/jacob/Fossil_Project/Leaves/Acanthaceae/1547.pngConverted image 1189 and saved at /media/data/jacob/Fossil_Project/Leaves/Amaranthaceae/2955.pngConverted image 1328 and saved at /media/data/jacob/Fossil_Project/Leaves/Apiaceae/2846.pngConverted image 1352 and saved at /media/data/jacob/Fossil_Project/Leaves/Apiaceae/2870.pngConverted image 1619 and saved at /media/data/jacob/Fossil_Project/Leaves/Asteraceae/1075.pngConverted image 1667 and saved at /media/data/jacob/Fossil_Project/Leaves/Balanopaceae/4399.pngConverted image 1776 and saved at /media/data/jacob/Fossil_Project/Leaves/Boraginaceae/1918a.pngConverted image 1921 and saved at /media/data/jacob/Fossil_Project/Leaves/Caprifoliaceae/1308.pngConverted image 2305 and saved at /media/data/jacob/Fossil_Project/Leaves/Cornaceae/3794.pngConverted image 2413 and saved at /media/data/jacob/Fossil_Project/Leaves/Cucurbitaceae/1826a.pngConverted image 2739 and saved at /media/data/jacob/Fossil_Project/Leaves/Ebenaceae/5037.pngConverted image 2753 and saved at /media/data/jacob/Fossil_Project/Leaves/Ebenaceae/5052.pngConverted image 2885 and saved at /media/data/jacob/Fossil_Project/Leaves/Ericaceae/2020-1.pngConverted image 3128 and saved at /media/data/jacob/Fossil_Project/Leaves/Fabaceae/4155.pngConverted image 3653 and saved at /media/data/jacob/Fossil_Project/Leaves/Humiriaceae/459.pngConverted image 3724 and saved at /media/data/jacob/Fossil_Project/Leaves/Irvingiaceae/2547.pngConverted image 4033 and saved at /media/data/jacob/Fossil_Project/Leaves/Linaceae/2427.pngConverted image 4110 and saved at /media/data/jacob/Fossil_Project/Leaves/Lythraceae/3020.pngConverted image 4567 and saved at /media/data/jacob/Fossil_Project/Leaves/Melastomataceae/2829.pngConverted image 4704 and saved at /media/data/jacob/Fossil_Project/Leaves/Monimiaceae/618-2.pngConverted image 5063 and saved at /media/data/jacob/Fossil_Project/Leaves/Onagraceae/3210.pngConverted image 6259 and saved at /media/data/jacob/Fossil_Project/Leaves/Rosaceae/3881.pngConverted image 6341 and saved at /media/data/jacob/Fossil_Project/Leaves/Rosaceae/3969.pngConverted image 6440 and saved at /media/data/jacob/Fossil_Project/Leaves/Rubiaceae/4623.pngConverted image 6543 and saved at /media/data/jacob/Fossil_Project/Leaves/Rubiaceae/494.pngConverted image 6683 and saved at /media/data/jacob/Fossil_Project/Leaves/Rutaceae/5983.pngConverted image 7559 and saved at /media/data/jacob/Fossil_Project/Leaves/Annonaceae/Annonaceae_Cyathostemma_sp._A_(X00456).pngConverted image 7622 and saved at /media/data/jacob/Fossil_Project/Leaves/Apocynaceae/Apocynaceae_Melodinus_acutiflorus_(X00222).pngConverted image 7699 and saved at /media/data/jacob/Fossil_Project/Leaves/Araceae/Araceae_Rhaphidophora_hayi_(X00109).pngConverted image 7856 and saved at /media/data/jacob/Fossil_Project/Leaves/Casuarinaceae/Casuarinaceae_Allocasuarina_torulosa_(X90393).pngConverted image 7850 and saved at /media/data/jacob/Fossil_Project/Leaves/Capparaceae/Capparaceae_Capparis_sp._(Forty_Mile_Scrub_BH_3883RFK)_(X90792).pngConverted image 7861 and saved at /media/data/jacob/Fossil_Project/Leaves/Celastraceae/Celastraceae_Denhamia_oleaster_(X90549).pngConverted image 7907 and saved at /media/data/jacob/Fossil_Project/Leaves/Combretaceae/Combretaceae_Terminalia_complanata_(X90624).pngConverted image 7901 and saved at /media/data/jacob/Fossil_Project/Leaves/Combretaceae/Combretaceae_Combretum_trifoliatum_(X00275).pngConverted image 7897 and saved at /media/data/jacob/Fossil_Project/Leaves/Clusiaceae/Clusiaceae_Garcinia_sp._(Claudie_River_LJB_19658)_(X91062).pngConverted image 7948 and saved at /media/data/jacob/Fossil_Project/Leaves/Convolvulaceae/Convolvulaceae_Operculina_riedeliana_(X00459).pngConverted image 7946 and saved at /media/data/jacob/Fossil_Project/Leaves/Convolvulaceae/Convolvulaceae_Merremia_tuberosa_(X00006).pngConverted image 7959 and saved at /media/data/jacob/Fossil_Project/Leaves/Cucurbitaceae/Cucurbitaceae_Momordica_charantia_(X00154).pngConverted image 8101 and saved at /media/data/jacob/Fossil_Project/Leaves/Euphorbiaceae/Euphorbiaceae_Codiaeum_variegatum_var._moluccanum_(X93070).pngConverted image 8099 and saved at /media/data/jacob/Fossil_Project/Leaves/Euphorbiaceae/Euphorbiaceae_Cleidion_spiciflorum_(X90471).pngConverted image 8110 and saved at /media/data/jacob/Fossil_Project/Leaves/Euphorbiaceae/Euphorbiaceae_Croton_insularis_(X90143).pngConverted image 8108 and saved at /media/data/jacob/Fossil_Project/Leaves/Euphorbiaceae/Euphorbiaceae_Croton_dockrillii_(X93073).pngConverted image 8109 and saved at /media/data/jacob/Fossil_Project/Leaves/Euphorbiaceae/Euphorbiaceae_Croton_habrophyllus_(X90913).pngConverted image 8103 and saved at /media/data/jacob/Fossil_Project/Leaves/Euphorbiaceae/Euphorbiaceae_Croton_arnhemicus_(X90597).pngConverted image 8137 and saved at /media/data/jacob/Fossil_Project/Leaves/Euphorbiaceae/Euphorbiaceae_Mallotus_polyadenos_(X90086).pngConverted image 8143 and saved at /media/data/jacob/Fossil_Project/Leaves/Euphorbiaceae/Euphorbiaceae_Omphalea_queenslandiae_(X00023).pngConverted image 8154 and saved at /media/data/jacob/Fossil_Project/Leaves/Fabaceae/Caesalpiniaceae_Caesalpinia_bonduc_(X92112).pngConverted image 8156 and saved at /media/data/jacob/Fossil_Project/Leaves/Fabaceae/Caesalpiniaceae_Caesalpinia_decapetala_(X00325).pngConverted image 8183 and saved at /media/data/jacob/Fossil_Project/Leaves/Fabaceae/Caesalpiniaceae_Senna_pendula_var._glabrata_(X00261).pngConverted image 8284 and saved at /media/data/jacob/Fossil_Project/Leaves/Fabaceae/Mimosaceae_Acacia_oraria_(X90561).pngConverted image 8384 and saved at /media/data/jacob/Fossil_Project/Leaves/Lamiaceae/Verbenaceae_Vitex_rotundifolia_(X93390).pngConverted image 8417 and saved at /media/data/jacob/Fossil_Project/Leaves/Lauraceae/Lauraceae_Cryptocarya_grandis_(X90516).pngConverted image 8528 and saved at /media/data/jacob/Fossil_Project/Leaves/Malvaceae/Malvaceae_Thespesia_populneoides_(X90454).pngConverted image 8541 and saved at /media/data/jacob/Fossil_Project/Leaves/Malvaceae/Sterculiaceae_Commersonia_bartramia_(X90189).pngConverted image 8558 and saved at /media/data/jacob/Fossil_Project/Leaves/Malvaceae/Tiliaceae_Grewia_breviflora_(X90595).pngConverted image 8579 and saved at /media/data/jacob/Fossil_Project/Leaves/Meliaceae/Meliaceae_Aglaia_elaeagnoidea_(X90468).pngConverted image 8591 and saved at /media/data/jacob/Fossil_Project/Leaves/Meliaceae/Meliaceae_Dysoxylum_klanderi_(X90207).pngConverted image 8723 and saved at /media/data/jacob/Fossil_Project/Leaves/Myrtaceae/Myrtaceae_Leptospermum_wooroonooran_(X90711).pngConverted image 8715 and saved at /media/data/jacob/Fossil_Project/Leaves/Myrtaceae/Myrtaceae_Decaspermum_humile_(X90338).pngConverted image 8714 and saved at /media/data/jacob/Fossil_Project/Leaves/Myrtaceae/Myrtaceae_Corymbia_torelliana_(X90427).pngConverted image 8731 and saved at /media/data/jacob/Fossil_Project/Leaves/Myrtaceae/Myrtaceae_Melaleuca_bracteata_(X91088).pngConverted image 8733 and saved at /media/data/jacob/Fossil_Project/Leaves/Myrtaceae/Myrtaceae_Melaleuca_leucadendra_(X90328).pngConverted image 8765 and saved at /media/data/jacob/Fossil_Project/Leaves/Myrtaceae/Myrtaceae_Syzygium_apodophyllum_(X90492).pngConverted image 8771 and saved at /media/data/jacob/Fossil_Project/Leaves/Myrtaceae/Myrtaceae_Syzygium_banksii_(X90679).pngConverted image 8879 and saved at /media/data/jacob/Fossil_Project/Leaves/Passifloraceae/Passifloraceae_Passiflora_edulis_(X00049).pngConverted image 8856 and saved at /media/data/jacob/Fossil_Project/Leaves/Oleaceae/Oleaceae_Olea_paniculata_(X90408).png\r"
     ]
    }
   ],
   "source": [
    "new_data_locations = {}\n",
    "for dataset_name, rows in data_by_dataset_dict.items():\n",
    "    filepaths = list(rows['path'].values)\n",
    "    labels = list(rows['family'].values)\n",
    "    assert len(filepaths) == len(labels)\n",
    "    print('Starting ', dataset_name, ' with ', len(filepaths), ' files')\n",
    "#     filepaths = filepaths[:10]\n",
    "#     labels = labels[:10]\n",
    "    \n",
    "    num_files = len(filepaths)\n",
    "    start_time = time.perf_counter()\n",
    "    new_dataset_paths = convert_to_png(filepaths, labels, dataset_name = dataset_name)\n",
    "    end_time = time.perf_counter()\n",
    "    total_time = end_time-start_time\n",
    "    print(f'Finished copying {num_files} from {dataset_name} in {total_time:.3f} seconds at a rate of {num_files/total_time:.3f} images/sec')\n",
    "    new_dataset_paths = list(new_dataset_paths)\n",
    "    new_data_locations.update({dataset_name:new_dataset_paths})\n"
   ]
  },
  {
   "cell_type": "markdown",
   "metadata": {},
   "source": [
    "#### **4.** Encode labels as integers for feeding into model"
   ]
  },
  {
   "cell_type": "code",
   "execution_count": null,
   "metadata": {},
   "outputs": [],
   "source": [
    "from pyleaves.data_pipeline.preprocessing import encode_labels\n",
    "\n",
    "data_df = encode_labels(data)\n",
    "\n",
    "data_df.sample(frac=1).head(10)"
   ]
  },
  {
   "cell_type": "code",
   "execution_count": null,
   "metadata": {},
   "outputs": [],
   "source": [
    "print(len(data_df))"
   ]
  },
  {
   "cell_type": "code",
   "execution_count": null,
   "metadata": {},
   "outputs": [],
   "source": [
    "from pyleaves.data_pipeline.preprocessing import filter_low_count_labels, one_hot_encode_labels, one_hot_decode_labels\n",
    "\n",
    "test_size = 0.25\n",
    "val_size = 0.25\n",
    "\n",
    "data_df = filter_low_count_labels(data_df, threshold=3, verbose = True)\n",
    "\n",
    "data_df = encode_labels(data_df) #Re-encode numeric labels after removing sub-threshold classes so that max(labels) == len(labels)\n",
    "\n",
    "image_paths = data_df['path'].values.reshape((-1,1))\n",
    "one_hot_labels = one_hot_encode_labels(data_df['label'].values)"
   ]
  },
  {
   "cell_type": "code",
   "execution_count": null,
   "metadata": {},
   "outputs": [],
   "source": [
    "# train_data, test_data = train_test_split(data_df, test_size=test_size, random_state=random_seed, shuffle=True, stratify=data_df['label'])\n",
    "train_paths, test_paths, train_labels, test_labels  = train_test_split(image_paths, one_hot_labels, test_size=test_size, random_state=random_seed, shuffle=True, stratify=data_df['label'])\n",
    "\n",
    "train_paths, val_paths, train_labels, val_labels = train_test_split(train_paths, train_labels, test_size=val_size, random_state=random_seed, shuffle=True, stratify=train_labels)\n",
    "\n",
    "\n",
    "train_data = {'path': train_paths, 'label': train_labels}\n",
    "val_data = {'path': val_paths, 'label': val_labels}\n",
    "test_data = {'path': test_paths, 'label': test_labels}\n",
    "\n",
    "data_splits = {'train': train_data,\n",
    "              'val': val_data,\n",
    "              'test': test_data}\n",
    "\n",
    "# train_gen = get_multiprocess_dataflow(train_data['path'], train_data['label'], size=(299,299), batch_size=32, num_prefetch=25, num_proc=5)"
   ]
  },
  {
   "cell_type": "markdown",
   "metadata": {},
   "source": [
    "## **Let's set up our model**"
   ]
  },
  {
   "cell_type": "code",
   "execution_count": null,
   "metadata": {},
   "outputs": [],
   "source": [
    "plot_class_frequencies = leavesdb.utils.plot_class_frequencies\n",
    "    \n",
    "plot_class_frequencies(labels=one_hot_decode_labels(train_data['label']).ravel().tolist());\n",
    "plot_class_frequencies(labels=one_hot_decode_labels(val_data['label']).ravel().tolist());"
   ]
  },
  {
   "cell_type": "code",
   "execution_count": null,
   "metadata": {},
   "outputs": [],
   "source": [
    "num_classes = len(np.unique(data_df['label']))\n",
    "img_size = [299,299]\n",
    "channels = 3\n",
    "batch_size = 32\n",
    "learning_rate=0.01\n",
    "num_epochs = 1\n",
    "\n",
    "def parse_function(filename, label):\n",
    "    img = tf.io.read_file(filename)\n",
    "    img = tf.io.decode_jpeg(img, channels=channels)#, dtype=tf.float32)\n",
    "    img = tf.image.resize(img, img_size)\n",
    "    return img, label #{'image':img, 'label':label}\n",
    "\n",
    "# def train_preprocess(img, label):\n",
    "#     img = tf.image.resize(img, img_size)\n",
    "#     return {'image':img, 'label':label}\n",
    "    \n",
    "\n",
    "def get_tf_dataset(filenames, labels):\n",
    "    data = tf.data.Dataset.from_tensor_slices((filenames, labels))\n",
    "    data = data.shuffle(len(filenames))\n",
    "#     data = data.interleave((lambda x, y: tf.data.Dataset(x,y).map(parse_function, num_parallel_calls=1)), cycle_length=4, block_length=16)\n",
    "    data = data.map(parse_function, num_parallel_calls=tf.data.experimental.AUTOTUNE)\n",
    "#     data = data.map(train_preprocess, num_parallel_calls=4)\n",
    "    data = data.batch(batch_size)\n",
    "    data = data.prefetch(tf.data.experimental.AUTOTUNE)\n",
    "#     data = data.apply(tf.data.experimental.prefetch_to_device('/device:GPU:0'))\n",
    "    return data\n",
    "\n",
    "##############################\n",
    "\n",
    "\n",
    "def debug_parse_function(filename, label):\n",
    "    img = tf.io.read_file(filename)\n",
    "    img = tf.io.decode_jpeg(img, channels=channels)#, dtype=tf.float32)\n",
    "    img = tf.image.resize(img, img_size)\n",
    "    return img, label, filename #{'image':img, 'label':label}\n",
    "\n",
    "\n",
    "\n",
    "def debug_get_tf_dataset(filenames, labels):\n",
    "    data = tf.data.Dataset.from_tensor_slices((filenames, labels))\n",
    "    data = data.shuffle(len(filenames))\n",
    "#     data = data.interleave((lambda x, y: tf.data.Dataset(x,y).map(parse_function, num_parallel_calls=1)), cycle_length=4, block_length=16)\n",
    "    data = data.map(debug_parse_function, num_parallel_calls=tf.data.experimental.AUTOTUNE)\n",
    "#     data = data.map(train_preprocess, num_parallel_calls=4)\n",
    "    data = data.batch(batch_size)\n",
    "    data = data.prefetch(tf.data.experimental.AUTOTUNE)\n",
    "    data = data.cache()\n",
    "#     data = data.apply(tf.data.experimental.prefetch_to_device('/device:GPU:0'))\n",
    "    return data\n",
    "\n",
    "##############################\n",
    "\n",
    "debug = False#True\n",
    "\n",
    "if debug == True:\n",
    "    get_tf_dataset = debug_get_tf_dataset\n",
    "\n",
    "\n",
    "\n",
    "\n",
    "\n",
    "\n",
    "def decode_labels(data_df):\n",
    "    data_df=data_df.groupby('label', group_keys=False).apply(lambda df: df.sample(1).loc[:,['label','family']])\n",
    "    data_df.sort_values(by='label', inplace=True)\n",
    "    data_df.set_index(keys='label',drop=True, inplace=True)\n",
    "    data_df = data_df.to_dict()\n",
    "    \n",
    "    return data_df['family']\n",
    "\n",
    "\n",
    "# train_dataset = get_tf_dataset(filenames = train_data['path'].values, labels = train_data['label'].values)\n",
    "# val_dataset = get_tf_dataset(filenames = val_data['path'].values, labels = val_data['label'].values)\n",
    "\n",
    "train_dataset = get_tf_dataset(filenames = train_data['path'].ravel(), labels = train_data['label'])\n",
    "val_dataset = get_tf_dataset(filenames = val_data['path'].ravel(), labels = val_data['label'])\n",
    "\n",
    "label_map = decode_labels(data_df=data_df)\n",
    "\n",
    "num_samples_train = len(train_data['path'])\n",
    "num_samples_val = len(val_data['path'])\n",
    "num_samples_test = len(test_data['path'])\n",
    "print(num_samples_train)\n",
    "print(num_samples_val)\n",
    "print(num_samples_test)\n",
    "\n",
    "label_map[0]"
   ]
  },
  {
   "cell_type": "code",
   "execution_count": null,
   "metadata": {},
   "outputs": [],
   "source": [
    "# for features in  train_dataset.take(1):\n",
    "#     image_batch = features[0].numpy().astype(np.int)\n",
    "#     label_batch = features[1].numpy().astype(np.int)\n",
    "\n",
    "# plot_image_grid = pyleaves.analysis.img_utils.plot_image_grid\n",
    "    \n",
    "    \n",
    "# plot_image_grid(image_batch, label_batch, x_plots = 4, y_plots = 8)"
   ]
  },
  {
   "cell_type": "code",
   "execution_count": null,
   "metadata": {},
   "outputs": [],
   "source": [
    "#############################################################################\n",
    "\n",
    "\n",
    "# datagen = tf.keras.preprocessing.image.ImageDataGenerator(rescale=1.0/255.0)\n",
    "\n",
    "# train_data['label'] = train_data['label'].astype(str)\n",
    "\n",
    "# datagen_flow = datagen.flow_from_dataframe(train_data.iloc[:100,:], x_col='path', y_col='label', class_mode='sparse', batch_size=batch_size)\n",
    "\n",
    "# a=next(datagen_flow)\n",
    "\n",
    "# print(a[0].shape, a[1].shape)"
   ]
  },
  {
   "cell_type": "code",
   "execution_count": null,
   "metadata": {},
   "outputs": [],
   "source": [
    "# import time\n",
    "\n",
    "\n",
    "# start_time = time.time()\n",
    "# n=100\n",
    "# total_time = 0\n",
    "# try:\n",
    "#     for i, features in enumerate(train_dataset.take(n)):\n",
    "# #         print(i, features[0].shape, features[1].shape)\n",
    "#         run_time = time.time()-start_time\n",
    "#         total_time += run_time\n",
    "#         print(f'Took {run_time:.2f} seconds')\n",
    "#         start_time = time.time()\n",
    "# except Exception as e:\n",
    "#     print(e)\n",
    "#     print(f'finished {i} iterations')\n",
    "\n",
    "# avg_time = total_time / i+1\n",
    "\n",
    "# rate = (i+1)*batch_size/total_time\n",
    "\n",
    "# print(f'Avg time = {avg_time:.2f} | Ran {i+1} iterations using batch size = {batch_size} & {batch_size*n} samples')\n",
    "# print(f'rate = {rate}')"
   ]
  },
  {
   "cell_type": "code",
   "execution_count": null,
   "metadata": {},
   "outputs": [],
   "source": [
    "model = pyleaves.models.inception_v3.build_model(num_classes, learning_rate=learning_rate)"
   ]
  },
  {
   "cell_type": "code",
   "execution_count": null,
   "metadata": {
    "scrolled": true
   },
   "outputs": [],
   "source": [
    "model.summary()"
   ]
  },
  {
   "cell_type": "code",
   "execution_count": null,
   "metadata": {},
   "outputs": [],
   "source": [
    "# history = pyleaves.models.inception_v3.train_model(model,\n",
    "# \t\t\t\ttrain_dataset,\n",
    "# \t\t\t\tvalidation_data=val_dataset, \n",
    "# \t\t\t\tsteps_per_epoch=int(num_samples_train//batch_size),\n",
    "# \t\t\t\tvalidation_steps=int(num_samples_val//batch_size),\n",
    "# \t\t\t\tmax_epochs=num_epochs,\n",
    "# # \t\t\t\tcallbacks=None,\n",
    "# \t\t\t\tworkers=5,\n",
    "# \t\t\t\tinitial_epoch=0)"
   ]
  },
  {
   "cell_type": "code",
   "execution_count": null,
   "metadata": {},
   "outputs": [],
   "source": [
    "# train_dataset = train_dataset.make_initializable_iterator().get_next()\n",
    "# val_dataset = val_dataset.make_initializable_iterator().get_next()"
   ]
  },
  {
   "cell_type": "code",
   "execution_count": null,
   "metadata": {},
   "outputs": [],
   "source": [
    "# current_epoch = 0\n",
    "# while current_epoch < 20:\n",
    "#     try:\n",
    "#         history = model.fit(\n",
    "#                         train_dataset,\n",
    "#                         validation_data=val_dataset, \n",
    "#         #                 steps_per_epoch=int(num_samples_train//batch_size),\n",
    "#         #                 validation_steps=int(num_samples_val//batch_size),\n",
    "#                         epochs=num_epochs,\n",
    "#                         # \t\t\t\tcallbacks=None,\n",
    "#                         workers=10,\n",
    "#                         initial_epoch=current_epoch,\n",
    "#                         verbose=1)\n",
    "#     except KeyboardInterrupt:\n",
    "#         break\n",
    "#     except Exception as e:\n",
    "#         print(f'current epoch = {current_epoch}, error: {e}')\n",
    "    "
   ]
  },
  {
   "cell_type": "code",
   "execution_count": null,
   "metadata": {},
   "outputs": [],
   "source": [
    "# read_data = tf.get_default_session().run(train_dataset)"
   ]
  },
  {
   "cell_type": "code",
   "execution_count": null,
   "metadata": {},
   "outputs": [],
   "source": [
    "import time\n",
    "from tensorflow.python.framework.errors_impl import InvalidArgumentError\n",
    "\n",
    "\n",
    "filename_ids = []\n",
    "batch_log = []\n",
    "invalid_filenames = []\n",
    "\n",
    "start_time = time.time()\n",
    "time_log = []\n",
    "steps_per_epoch = num_samples_train//batch_size\n",
    "\n",
    "valid_filenames = []\n",
    "\n",
    "reset_iter = True\n",
    "current_epoch = 0\n",
    "while current_epoch < 20:\n",
    "    if reset_iter == True:\n",
    "        epoch_dataset = train_dataset.take(steps_per_epoch)\n",
    "        reset_iter = False\n",
    "    try:\n",
    "        for i, (imgs, labels, filenames) in enumerate(epoch_dataset):        \n",
    "            run_time = time.time()-start_time\n",
    "            time_log.append(run_time)\n",
    "            print(f'Took {run_time:.2f} seconds')\n",
    "            \n",
    "            valid_filenames.append([fname.numpy().decode('utf-8') for fname in filenames])\n",
    "            \n",
    "            start_time = time.time()\n",
    "    except InvalidArgumentError as e:\n",
    "        invalid_flag = 0\n",
    "        for j, fname in enumerate(filenames):\n",
    "            fname = fname.numpy().decode('utf-8')\n",
    "            if os.path.isfile(fname):\n",
    "                filename_ids.append(i*batch_size+j)\n",
    "                valid_filenames.append(fname)\n",
    "                continue\n",
    "            else:\n",
    "                filename_ids.append(i*batch_size+j)\n",
    "                invalid_filenames.append(fname)    \n",
    "                print(f'invalid filename = {fname}')\n",
    "                invalid_flag = 1\n",
    "        print(f'current epoch = {current_epoch}, error: {e}', type(e))\n",
    "        continue\n",
    "\n",
    "    except KeyboardInterrupt:\n",
    "        break\n",
    "    except Exception as e:\n",
    "        reset_iter = True\n",
    "        print(f'current epoch = {current_epoch}, error: {e}', type(e))\n",
    "            \n",
    "print(f'finished {i*batch_size} samples over {i} iterations in {np.sum(time_log):.2f} seconds')"
   ]
  },
  {
   "cell_type": "code",
   "execution_count": null,
   "metadata": {},
   "outputs": [],
   "source": [
    "print(invalid_filenames)"
   ]
  },
  {
   "cell_type": "code",
   "execution_count": null,
   "metadata": {},
   "outputs": [],
   "source": [
    "import cv2\n",
    "\n",
    "plot_image_grid = pyleaves.analysis.img_utils.plot_image_grid\n",
    "\n",
    "invalid_filenames = np.concatenate([fname.numpy().tolist() for fname in invalid_filenames]).tolist()\n",
    "\n",
    "for i, fname in enumerate(invalid_filenames):\n",
    "    if type(fname)==bytes:\n",
    "        invalid_filenames[i] = fname.decode('utf-8')    \n",
    "    \n",
    "    "
   ]
  },
  {
   "cell_type": "code",
   "execution_count": null,
   "metadata": {},
   "outputs": [],
   "source": [
    "invalid_imgs = []\n",
    "for i, fname in enumerate(invalid_filenames):\n",
    "    img = cv2.imread(fname)\n",
    "    img = cv2.resize(img, tuple(img_size))\n",
    "    invalid_imgs.append(img)\n",
    "\n",
    "    \n",
    "invalid_images = np.stack(invalid_imgs)\n",
    "\n",
    "plot_image_grid(invalid_images, labels = np.ones(len(invalid_imgs)), x_plots = 4, y_plots = 8)"
   ]
  },
  {
   "cell_type": "code",
   "execution_count": null,
   "metadata": {},
   "outputs": [],
   "source": []
  }
 ],
 "metadata": {
  "kernelspec": {
   "display_name": "Python 3",
   "language": "python",
   "name": "python3"
  },
  "language_info": {
   "codemirror_mode": {
    "name": "ipython",
    "version": 3
   },
   "file_extension": ".py",
   "mimetype": "text/x-python",
   "name": "python",
   "nbconvert_exporter": "python",
   "pygments_lexer": "ipython3",
   "version": "3.7.6"
  }
 },
 "nbformat": 4,
 "nbformat_minor": 4
}
